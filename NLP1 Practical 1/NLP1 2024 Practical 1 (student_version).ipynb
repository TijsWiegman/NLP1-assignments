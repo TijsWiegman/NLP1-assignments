{
 "cells": [
  {
   "cell_type": "markdown",
   "metadata": {
    "id": "1-aRiOgl4nHg"
   },
   "source": [
    "------\n",
    "**You cannot save any changes you make to this file, so please make sure to save it on your Google Colab drive or download it as a .ipynb file.**\n",
    "\n",
    "------\n",
    "\n"
   ]
  },
  {
   "cell_type": "markdown",
   "metadata": {
    "id": "lIZrAUx57vsM"
   },
   "source": [
    "Practical 1: Sentiment Detection in Movie Reviews\n",
    "========================================\n",
    "\n"
   ]
  },
  {
   "cell_type": "markdown",
   "metadata": {
    "id": "J4kXPMhyngZW"
   },
   "source": [
    "This practical concerns detecting sentiment in movie reviews. This is a typical NLP classification task.\n",
    "In [this file](https://gist.githubusercontent.com/bastings/d47423301cca214e3930061a5a75e177/raw/5113687382919e22b1f09ce71a8fecd1687a5760/reviews.json) (80MB) you will find 1000 positive and 1000 negative **movie reviews**.\n",
    "Each review is a **document** and consists of one or more sentences.\n",
    "\n",
    "To prepare yourself for this practical, you should\n",
    "have a look at a few of these texts to understand the difficulties of\n",
    "the task: how might one go about classifying the texts? You will write\n",
    "code that decides whether a movie review conveys positive or\n",
    "negative sentiment.\n",
    "\n",
    "Please make sure you have read the following paper:\n",
    "\n",
    ">   Bo Pang, Lillian Lee, and Shivakumar Vaithyanathan\n",
    "(2002).\n",
    "[Thumbs up? Sentiment Classification using Machine Learning\n",
    "Techniques](https://dl.acm.org/citation.cfm?id=1118704). EMNLP.\n",
    "\n",
    "Bo Pang et al. introduced the movie review sentiment\n",
    "classification task, and the above paper was one of the first papers on\n",
    "the topic. The first version of your sentiment classifier will do\n",
    "something similar to Pang et al.'s system. If you have questions about it,\n",
    "you should resolve you doubts as soon as possible with your TA.\n"
   ]
  },
  {
   "cell_type": "markdown",
   "metadata": {
    "id": "cb7errgRASzZ"
   },
   "source": [
    "**Advice**\n",
    "\n",
    "Please read through the entire practical and familiarise\n",
    "yourself with all requirements before you start coding or otherwise\n",
    "solving the tasks. Writing clean and concise code can make the difference\n",
    "between solving the assignment in a matter of hours, and taking days to\n",
    "run all experiments.\n",
    "\n",
    "\n",
    "**Implementation**\n",
    "\n",
    "While we inserted code cells to indicate where you should implement your own code, please feel free to add/remove code blocks where you see fit (but make sure that the general structure of the assignment is preserved). Also, please keep in mind that it is always good practice to structure your code properly, e.g., by implementing separate classes and functions that can be reused. **Make sure you run all your code before submitting the notebook, and do not leave unnecessary print statements / cells in your notebook that are not intended for the grader.**\n",
    "\n",
    "## Environment\n",
    "\n",
    "All code should be written in **Python 3**.\n",
    "This is the default in Google Colab."
   ]
  },
  {
   "cell_type": "code",
   "execution_count": 22,
   "metadata": {
    "colab": {
     "base_uri": "https://localhost:8080/"
    },
    "executionInfo": {
     "elapsed": 21,
     "status": "ok",
     "timestamp": 1698047665308,
     "user": {
      "displayName": "XUE LI",
      "userId": "02386889076941396043"
     },
     "user_tz": -120
    },
    "id": "SaZnxptMJiD7",
    "outputId": "18c3a760-90b6-4d90-e507-aba57841ae23"
   },
   "outputs": [
    {
     "name": "stdout",
     "output_type": "stream",
     "text": [
      "Python 3.12.4\n"
     ]
    }
   ],
   "source": [
    "!python --version"
   ]
  },
  {
   "cell_type": "markdown",
   "metadata": {
    "id": "BYZyIF7lJnGn"
   },
   "source": [
    "If you want to run code on your own computer, then download this notebook through `File -> Download .ipynb`.\n",
    "The easiest way to\n",
    "install Python is through downloading\n",
    "[Anaconda](https://www.anaconda.com/download).\n",
    "After installation, you can start the notebook by typing `jupyter notebook filename.ipynb`.\n",
    "You can also use an IDE\n",
    "such as [PyCharm](https://www.jetbrains.com/pycharm/download/) to make\n",
    "coding and debugging easier. It is good practice to create a [virtual\n",
    "environment](https://docs.python.org/3/tutorial/venv.html) for this\n",
    "project, so that any Python packages don’t interfere with other\n",
    "projects.\n",
    "\n",
    "\n",
    "**Learning Python 3**\n",
    "\n",
    "If you are new to Python 3, you may want to check out a few of these resources:\n",
    "- https://learnxinyminutes.com/docs/python3/\n",
    "- https://www.learnpython.org/\n",
    "- https://docs.python.org/3/tutorial/"
   ]
  },
  {
   "cell_type": "code",
   "execution_count": 23,
   "metadata": {
    "id": "hok-BFu9lGoK"
   },
   "outputs": [],
   "source": [
    "import math\n",
    "import os\n",
    "import sys\n",
    "from subprocess import call\n",
    "from nltk import FreqDist\n",
    "from nltk.util import ngrams\n",
    "from nltk.stem.porter import PorterStemmer\n",
    "import sklearn as sk\n",
    "# from google.colab import drive\n",
    "import pickle\n",
    "import json\n",
    "from collections import Counter\n",
    "import requests\n",
    "import matplotlib.pyplot as plt\n",
    "import numpy as np"
   ]
  },
  {
   "cell_type": "markdown",
   "metadata": {
    "id": "bXWyGHwE-ieQ"
   },
   "source": [
    "## Loading the data\n",
    "\n",
    "**Download the sentiment lexicon and the movie reviews dataset.**"
   ]
  },
  {
   "cell_type": "code",
   "execution_count": 24,
   "metadata": {
    "colab": {
     "base_uri": "https://localhost:8080/"
    },
    "executionInfo": {
     "elapsed": 1808,
     "status": "ok",
     "timestamp": 1698047686292,
     "user": {
      "displayName": "XUE LI",
      "userId": "02386889076941396043"
     },
     "user_tz": -120
    },
    "id": "lm-rakqtlMOT",
    "outputId": "1b6b1152-50b7-4161-aab2-03da318d6981"
   },
   "outputs": [],
   "source": [
    "# download sentiment lexicon\n",
    "# !wget https://gist.githubusercontent.com/bastings/d6f99dcb6c82231b94b013031356ba05/raw/f80a0281eba8621b122012c89c8b5e2200b39fd6/sent_lexicon\n",
    "# download review data\n",
    "# !wget https://gist.githubusercontent.com/bastings/d47423301cca214e3930061a5a75e177/raw/5113687382919e22b1f09ce71a8fecd1687a5760/reviews.json"
   ]
  },
  {
   "cell_type": "markdown",
   "metadata": {
    "id": "AkPwuHp5LSuQ"
   },
   "source": [
    "**Load the movie reviews.**\n",
    "\n",
    "Each word in a review comes with its part-of-speech tag. For documentation on POS-tags, see https://catalog.ldc.upenn.edu/docs/LDC99T42/tagguid1.pdf.\n"
   ]
  },
  {
   "cell_type": "code",
   "execution_count": 25,
   "metadata": {
    "colab": {
     "base_uri": "https://localhost:8080/"
    },
    "executionInfo": {
     "elapsed": 3917,
     "status": "ok",
     "timestamp": 1698047715771,
     "user": {
      "displayName": "XUE LI",
      "userId": "02386889076941396043"
     },
     "user_tz": -120
    },
    "id": "careEKj-mRpl",
    "outputId": "a6f3c385-5106-49ec-be89-4aff971eb05b"
   },
   "outputs": [
    {
     "name": "stdout",
     "output_type": "stream",
     "text": [
      "Total number of reviews: 2000 \n",
      "\n",
      "0 NEG 29\n",
      "Two/CD teen/JJ couples/NNS go/VBP to/TO a/DT church/NN party/NN ,/, drink/NN and/CC then/RB drive/NN ./.\n",
      "1 NEG 11\n",
      "Damn/JJ that/IN Y2K/CD bug/NN ./.\n",
      "2 NEG 24\n",
      "It/PRP is/VBZ movies/NNS like/IN these/DT that/WDT make/VBP a/DT jaded/JJ movie/NN viewer/NN thankful/JJ for/IN the/DT invention/NN of/IN the/DT Timex/NNP IndiGlo/NNP watch/NN ./.\n",
      "3 NEG 19\n",
      "QUEST/NN FOR/IN CAMELOT/NNP ``/`` Quest/NNP for/IN Camelot/NNP ''/'' is/VBZ Warner/NNP Bros./NNP '/POS first/JJ feature-length/JJ ,/, fully-animated/JJ attempt/NN to/TO steal/VB clout/NN from/IN Disney/NNP 's/POS cartoon/NN empire/NN ,/, but/CC the/DT mouse/NN has/VBZ no/DT reason/NN to/TO be/VB worried/VBN ./.\n",
      "4 NEG 38\n",
      "Synopsis/NNPS :/: A/DT mentally/RB unstable/JJ man/NN undergoing/VBG psychotherapy/NN saves/VBZ a/DT boy/NN from/IN a/DT potentially/RB fatal/JJ accident/NN and/CC then/RB falls/VBZ in/IN love/NN with/IN the/DT boy/NN 's/POS mother/NN ,/, a/DT fledgling/NN restauranteur/NN ./.\n",
      "\n",
      "Number of word types: 55384\n",
      "Number of word tokens: 1512359\n",
      "\n",
      "Most common tokens:\n",
      "         , :    77842\n",
      "       the :    64890\n",
      "         . :    59027\n",
      "         a :    36338\n",
      "       and :    33467\n",
      "        of :    33230\n",
      "        to :    31202\n",
      "        is :    25765\n",
      "        in :    19715\n",
      "        's :    17863\n",
      "      that :    15174\n",
      "        it :    12666\n",
      "     -RRB- :    11768\n",
      "     -LRB- :    11670\n",
      "        as :    10329\n",
      "      with :    10286\n",
      "       The :     9945\n",
      "      film :     9326\n",
      "        '' :     9282\n",
      "       for :     9247\n"
     ]
    }
   ],
   "source": [
    "# file structure:\n",
    "# [\n",
    "#  {\"cv\": integer, \"sentiment\": str, \"content\": list}\n",
    "#  {\"cv\": integer, \"sentiment\": str, \"content\": list}\n",
    "#   ..\n",
    "# ]\n",
    "# where `content` is a list of sentences,\n",
    "# with a sentence being a list of (token, pos_tag) pairs.\n",
    "\n",
    "\n",
    "with open(\"reviews.json\", mode=\"r\", encoding=\"utf-8\") as f:\n",
    "  reviews = json.load(f)\n",
    "\n",
    "print(\"Total number of reviews:\", len(reviews), '\\n')\n",
    "\n",
    "def print_sentence_with_pos(s):\n",
    "  print(\" \".join(\"%s/%s\" % (token, pos_tag) for token, pos_tag in s))\n",
    "\n",
    "for i, r in enumerate(reviews):\n",
    "  print(r[\"cv\"], r[\"sentiment\"], len(r[\"content\"]))  # cv, sentiment, num sents\n",
    "  print_sentence_with_pos(r[\"content\"][0])\n",
    "  if i == 4:\n",
    "    break\n",
    "\n",
    "c = Counter()\n",
    "for review in reviews:\n",
    "  for sentence in review[\"content\"]:\n",
    "    for token, pos_tag in sentence:\n",
    "      c[token] += 1\n",
    "\n",
    "print(\"\\nNumber of word types:\", len(c))\n",
    "print(\"Number of word tokens:\", sum(c.values()))\n",
    "\n",
    "print(\"\\nMost common tokens:\")\n",
    "for token, count in c.most_common(20):\n",
    "  print(\"%10s : %8d\" % (token, count))\n"
   ]
  },
  {
   "cell_type": "markdown",
   "metadata": {
    "id": "E6PWaEoh8B34"
   },
   "source": [
    "#(1) Lexicon-based approach (3.5pts)\n",
    "\n"
   ]
  },
  {
   "cell_type": "markdown",
   "metadata": {
    "id": "JsTSMb6ma4E8"
   },
   "source": [
    "A traditional approach to classify documents according to their sentiment is the lexicon-based approach. To implement this approach, you need a **sentiment lexicon**, i.e., a list of words annotated with a sentiment label (e.g., positive and negative, or a score from 0 to 5).\n",
    "\n",
    "In this practical, you will use the sentiment\n",
    "lexicon released by Wilson et al. (2005).\n",
    "\n",
    "> Theresa Wilson, Janyce Wiebe, and Paul Hoffmann\n",
    "(2005). [Recognizing Contextual Polarity in Phrase-Level Sentiment\n",
    "Analysis](http://www.aclweb.org/anthology/H/H05/H05-1044.pdf). HLT-EMNLP.\n",
    "\n",
    "Pay attention to all the information available in the sentiment lexicon. The field *word1* contains the lemma, *priorpolarity* contains the sentiment label (positive, negative, both, or neutral), *type* gives you the magnitude of the word's sentiment (strong or weak), and *pos1* gives you the part-of-speech tag of the lemma. Some lemmas can have multiple part-of-speech tags and thus multiple entries in the lexicon. The path of the lexicon file is `\"sent_lexicon\"`.\n"
   ]
  },
  {
   "cell_type": "code",
   "execution_count": 26,
   "metadata": {
    "colab": {
     "base_uri": "https://localhost:8080/"
    },
    "executionInfo": {
     "elapsed": 220,
     "status": "ok",
     "timestamp": 1698047764860,
     "user": {
      "displayName": "XUE LI",
      "userId": "02386889076941396043"
     },
     "user_tz": -120
    },
    "id": "Ogq0Eq2hQglh",
    "outputId": "1c26526d-399e-4558-a1b2-2fa771648f09"
   },
   "outputs": [
    {
     "name": "stdout",
     "output_type": "stream",
     "text": [
      "type=weaksubj len=1 word1=abandoned pos1=adj stemmed1=n priorpolarity=negative\n",
      "type=weaksubj len=1 word1=abandonment pos1=noun stemmed1=n priorpolarity=negative\n",
      "type=weaksubj len=1 word1=abandon pos1=verb stemmed1=y priorpolarity=negative\n",
      "type=strongsubj len=1 word1=abase pos1=verb stemmed1=y priorpolarity=negative\n",
      "type=strongsubj len=1 word1=abasement pos1=anypos stemmed1=y priorpolarity=negative\n"
     ]
    }
   ],
   "source": [
    "with open(\"sent_lexicon\", mode=\"r\", encoding=\"utf-8\") as f:\n",
    "  line_cnt = 0\n",
    "  for line in f:\n",
    "    print(line.strip())\n",
    "    line_cnt += 1\n",
    "    if line_cnt > 4:\n",
    "      break"
   ]
  },
  {
   "cell_type": "markdown",
   "metadata": {
    "id": "Mml4nOtIUBhn"
   },
   "source": [
    "Lexica such as this can be used to solve\n",
    "the classification task without using Machine Learning. For example, one might look up every word $w_1 ... w_n$ in a document, and compute a **binary score**\n",
    "$S_{binary}$ by counting how many words have a positive or a\n",
    "negative label in the sentiment lexicon $SLex$.\n",
    "\n",
    "$$S_{binary}(w_1 w_2 ... w_n) = \\sum_{i = 1}^{n}\\text{sign}(SLex\\big[w_i\\big])$$\n",
    "\n",
    "where $\\text{sign}(SLex\\big[w_i\\big])$ refers to the polarity of $w_i$.\n",
    "\n",
    "**Threshold.** On average, there are more positive than negative words per review (~7.13 more positive than negative per review) to take this bias into account you should use a threshold of **8** (roughly the bias itself) to make it harder to classify as positive.\n",
    "\n",
    "$$\n",
    "\\text{classify}(S_{binary}(w_1 w_2 ... w_n)) = \\bigg\\{\\begin{array}{ll}\n",
    "        \\text{positive} & \\text{if } S_{binary}(w_1w_2...w_n) > threshold\\\\\n",
    "        \\text{negative} & \\text{otherwise}\n",
    "        \\end{array}\n",
    "$$\n"
   ]
  },
  {
   "cell_type": "markdown",
   "metadata": {
    "id": "tOFnMvbeeZrc"
   },
   "source": [
    "#### (Q1.1) Implement this approach and report its classification accuracy. (1 pt)"
   ]
  },
  {
   "cell_type": "code",
   "execution_count": 27,
   "metadata": {
    "id": "ED2aTEYutW1-"
   },
   "outputs": [],
   "source": [
    "# YOUR CODE HERE\n",
    "# load sent lex into dic\n",
    "sent_lex = {}\n",
    "with open(\"sent_lexicon\", mode=\"r\", encoding=\"utf-8\") as f:\n",
    "  for line in f:\n",
    "    typ, Len, Word, pos1, stem, prior = line.strip().split(\" \")\n",
    "    word = Word.split('=')[1]\n",
    "\n",
    "    # sent = 1 if 'postive', -1 if 'negative', 0 if 'neutral' or 'both'\n",
    "    if prior.split('=')[1] =='positive':\n",
    "        prior = 1\n",
    "    elif prior.split('=')[1] =='negative':\n",
    "        prior = -1\n",
    "    else:\n",
    "        prior = 0\n",
    "    sent_lex[word] = prior\n",
    "\n",
    "def binary_score(review, sent_lex, threshold=8):\n",
    "    score = 0\n",
    "    for sentence in review[\"content\"]:\n",
    "        for token, pos_tag in sentence:\n",
    "            if token in sent_lex:\n",
    "                score += sent_lex[token.lower()]\n",
    "\n",
    "    return 1 if score >= threshold else 0\n",
    "\n",
    "def accuracy1(results, inputs):\n",
    "    TPTN = 0\n",
    "    TPTNFPFN = len(results)\n",
    "\n",
    "    for i, r in enumerate(inputs):\n",
    "        bool1 = r[\"sentiment\"] == 'NEG' and results[i] == 0\n",
    "        bool2 = r[\"sentiment\"] == 'POS' and results[i] == 1\n",
    "        if bool1 or bool2:\n",
    "            TPTN += 1\n",
    "\n",
    "    accuracy = TPTN / TPTNFPFN\n",
    "    # print(\"Accuracy:\", accuracy)\n",
    "    return accuracy\n",
    "\n",
    "def accuracy2(results, inputs):\n",
    "    TPTN = 0\n",
    "    TPTNFPFN = len(results)\n",
    "\n",
    "    for i, r in enumerate(inputs):\n",
    "        if r[\"sentiment\"] == results[i]:\n",
    "            TPTN += 1\n",
    "\n",
    "    accuracy = TPTN / TPTNFPFN\n",
    "    # print(\"Accuracy:\", accuracy)\n",
    "    return accuracy"
   ]
  },
  {
   "cell_type": "code",
   "execution_count": 28,
   "metadata": {
    "id": "iy528EUTphz5"
   },
   "outputs": [
    {
     "name": "stdout",
     "output_type": "stream",
     "text": [
      "Token-based accuracy: 0.674\n"
     ]
    }
   ],
   "source": [
    "# token_results should be a list of binary indicators; for example [1, 0, 1, ...]\n",
    "# where 1 indicates a correct classification and 0 an incorrect classification.\n",
    "token_results = list(map(lambda r: binary_score(r,sent_lex), reviews))\n",
    "\n",
    "token_accuracy = accuracy1(token_results,reviews)\n",
    "print(\"Token-based accuracy:\", token_accuracy)"
   ]
  },
  {
   "cell_type": "markdown",
   "metadata": {
    "id": "Twox0s_3eS0V"
   },
   "source": [
    "As the sentiment lexicon also has information about the **magnitude** of\n",
    "sentiment (e.g., *“excellent\"* has the same sentiment _polarity_ as *“good\"* but it has a higher magnitude), we can take a more fine-grained approach by adding up all\n",
    "sentiment scores, and deciding the polarity of the movie review using\n",
    "the sign of the weighted score $S_{weighted}$.\n",
    "\n",
    "$$S_{weighted}(w_1w_2...w_n) = \\sum_{i = 1}^{n}SLex\\big[w_i\\big]$$\n",
    "\n",
    "\n",
    "Make sure you define an appropriate threshold for this approach.\n",
    "\n",
    "#### (Q1.2) Now incorporate magnitude information and report the classification accuracy. Don't forget to use the threshold. (1pt)"
   ]
  },
  {
   "cell_type": "code",
   "execution_count": 29,
   "metadata": {
    "id": "qG3hUDnPtkhS"
   },
   "outputs": [],
   "source": [
    "# YOUR CODE HERE\n",
    "magnitude_sent_lex = {}\n",
    "with open(\"sent_lexicon\", mode=\"r\", encoding=\"utf-8\") as f:\n",
    "  magnitude_sent_lex = {}\n",
    "  for line in f:\n",
    "    typ, Len, Word, pos1, stem, prior = line.strip().split(\" \")\n",
    "\n",
    "    word = Word.split('=')[1]\n",
    "    magnitude = 2 if typ.split('=')[1] == 'strongsubj' else 1\n",
    "    \n",
    "    # sent = 1 if 'postive', -1 if 'negative', 0 if 'neutral' or 'both'\n",
    "    if prior.split('=')[1] =='positive':\n",
    "        prior = 1\n",
    "    elif prior.split('=')[1] =='negative':\n",
    "        prior = -1\n",
    "    else:\n",
    "        prior = 0\n",
    "    magnitude_sent_lex[word] = prior*magnitude"
   ]
  },
  {
   "cell_type": "code",
   "execution_count": 30,
   "metadata": {
    "colab": {
     "base_uri": "https://localhost:8080/",
     "height": 141
    },
    "executionInfo": {
     "elapsed": 221,
     "status": "error",
     "timestamp": 1698047779696,
     "user": {
      "displayName": "XUE LI",
      "userId": "02386889076941396043"
     },
     "user_tz": -120
    },
    "id": "9vVk7CvDpyka",
    "outputId": "fb9a09d2-b878-416f-d72c-1c651099c9ed"
   },
   "outputs": [
    {
     "name": "stdout",
     "output_type": "stream",
     "text": [
      "Magnitude-based accuracy: 0.6795\n"
     ]
    }
   ],
   "source": [
    "# madnitude_results should be a list of binary indicators; for example [1, 0, 1, ...]\n",
    "# where 1 indicates a correct classification and 0 an incorrect classification.\n",
    "magnitude_results = list(map(lambda r: binary_score(r,magnitude_sent_lex), reviews))\n",
    "\n",
    "magnitude_accuracy = accuracy1(magnitude_results,reviews)\n",
    "print(\"Magnitude-based accuracy:\", magnitude_accuracy)"
   ]
  },
  {
   "cell_type": "markdown",
   "metadata": {
    "id": "h9SHoGPfsAHV"
   },
   "source": [
    "#### (Q.1.3) Make a barplot of the two results (0.5pt)"
   ]
  },
  {
   "cell_type": "code",
   "execution_count": 31,
   "metadata": {
    "id": "8LgBcYcXsEk3"
   },
   "outputs": [
    {
     "data": {
      "image/png": "[encoded data removed]",
      "text/plain": [
       "<Figure size 640x480 with 1 Axes>"
      ]
     },
     "metadata": {},
     "output_type": "display_data"
    }
   ],
   "source": [
    "# YOUR CODE HERE\n",
    "plt.bar(['Token', 'Magnitude'], [token_accuracy, magnitude_accuracy])\n",
    "plt.ylabel('Accuracy')\n",
    "plt.title('Token vs Magnitude')\n",
    "plt.show()"
   ]
  },
  {
   "cell_type": "markdown",
   "metadata": {
    "id": "sNhS8OCVxMHd"
   },
   "source": [
    "#### (Q1.4) A better threshold (1pt)\n",
    "Above we have defined a threshold to account for an inherent bias in the dataset: there are more positive than negative words per review.\n",
    "However, that threshold does not take into account *document length*. Explain why this is a problem and implement an alternative way to compute the threshold."
   ]
  },
  {
   "cell_type": "markdown",
   "metadata": {
    "id": "xo7gk1I-omLI"
   },
   "source": [
    "$\\textbf{Answer}$\n",
    "\n",
    "We can solve this by using dynamic thresholds, which changes per document based on the documents length. We suggest using a value proportional to one over the document length, where the proportionality constant is a hyperparameter to be set during training.\n",
    "\n",
    "To get more specfic, we can think of a positive review as having a rate of positive words $\\gamma$, so for $n$ words, there would be $\\gamma n$ positive words. Then, we can think of the binary score $S$ as a sum over positive words of the entire review, so $S \\propto \\gamma L$. We want to threshold based on the rate of postive words, not on the total number of positive words. Without dynamic thresholding, we use \n",
    "$$S \\geq \\alpha$$\n",
    "With dynamic threshold, we get\n",
    "$$\\gamma \\propto \\frac SL \\geq \\frac \\alpha L$$\n",
    "Here, $\\alpha$ is a scale parameter which we will not tune but set to 1."
   ]
  },
  {
   "cell_type": "code",
   "execution_count": 32,
   "metadata": {
    "id": "Dwt0B8h8aKjr"
   },
   "outputs": [
    {
     "name": "stdout",
     "output_type": "stream",
     "text": [
      "Threshold-based accuracy: 0.648\n"
     ]
    }
   ],
   "source": [
    "# YOUR CODE HERE\n",
    "# madnitude_results should be a list of binary indicators; for example [1, 0, 1, ...]\n",
    "# where 1 indicates a correct classification and 0 an incorrect classification.\n",
    "\n",
    "magnitude_results= []\n",
    "for r in reviews:\n",
    "    doc_len = sum([len(s) for s in r[\"content\"]])\n",
    "    dynamic_threshold = 1/doc_len\n",
    "    magnitude_results.append(binary_score(r, magnitude_sent_lex, dynamic_threshold))\n",
    "\n",
    "threshold_accuracy = accuracy1(magnitude_results, reviews)\n",
    "print(\"Threshold-based accuracy:\", threshold_accuracy)"
   ]
  },
  {
   "cell_type": "markdown",
   "metadata": {
    "id": "LibV4nR89BXb"
   },
   "source": [
    "# (2) Naive Bayes (9.5pts)"
   ]
  },
  {
   "cell_type": "markdown",
   "metadata": {
    "id": "fnF9adQnuwia"
   },
   "source": [
    "\n",
    "Your second task is to program a simple Machine Learning approach that operates\n",
    "on a simple Bag-of-Words (BoW) representation of the text data, as\n",
    "described by Pang et al. (2002). In this approach, the only features we\n",
    "will consider are the words in the text themselves, without bringing in\n",
    "external sources of information. The BoW model is a popular way of\n",
    "representing texts as vectors, making it\n",
    "easy to apply classical Machine Learning algorithms on NLP tasks.\n",
    "However, the BoW representation is also very crude, since it discards\n",
    "all information related to word order and grammatical structure in the\n",
    "original text—as the name suggests.\n",
    "\n",
    "## Writing your own classifier (4pts)\n",
    "\n",
    "Write your own code to implement the Naive Bayes (NB) classifier. As\n",
    "a reminder, the Naive Bayes classifier works according to the following\n",
    "equation:\n",
    "$$\\hat{c} = \\operatorname*{arg\\,max}_{c \\in C} P(c|\\bar{f}) = \\operatorname*{arg\\,max}_{c \\in C} P(c)\\prod^n_{i=1} P(f_i|c)$$\n",
    "where $C = \\{ \\text{POS}, \\text{NEG} \\}$ is the set of possible classes,\n",
    "$\\hat{c} \\in C$ is the most probable class, and $\\bar{f}$ is the feature\n",
    "vector. Remember that we use the log of these probabilities when making\n",
    "a prediction:\n",
    "$$\\hat{c} = \\operatorname*{arg\\,max}_{c \\in C} \\Big\\{\\log P(c) + \\sum^n_{i=1} \\log P(f_i|c)\\Big\\}$$\n",
    "\n",
    "You can find more details about Naive Bayes in [Jurafsky &\n",
    "Martin](https://web.stanford.edu/~jurafsky/slp3/). You can also look at\n",
    "this helpful\n",
    "[pseudo-code](https://nlp.stanford.edu/IR-book/html/htmledition/naive-bayes-text-classification-1.html).\n",
    "\n",
    "*Note: this section and the next aim to put you in a position to replicate\n",
    "    Pang et al.'s Naive Bayes results. However, your numerical results\n",
    "    will differ from theirs, as they used different data.*\n",
    "\n",
    "**You must write the Naive Bayes training and prediction code from\n",
    "scratch.** You will not be given credit for using off-the-shelf Machine\n",
    "Learning libraries.\n",
    "\n",
    "The data contains the text of the reviews, where each document consists\n",
    "of the sentences in the review, the sentiment of the review and an index\n",
    "(cv) that you will later use for cross-validation. The\n",
    "text has already been tokenised and POS-tagged for you. Your algorithm\n",
    "should read in the text, **lowercase it**, store the words and their\n",
    "frequencies in an appropriate data structure that allows for easy\n",
    "computation of the probabilities used in the Naive Bayes algorithm, and\n",
    "then make predictions for new instances.\n"
   ]
  },
  {
   "cell_type": "markdown",
   "metadata": {
    "id": "vEpyQSBSkb33"
   },
   "source": [
    "#### (Q2.1) Unseen words (1pt)\n",
    "The presence of words in the test dataset that\n",
    "have not been seen during training can cause probabilities in the Naive Bayes classifier to equal $0$.\n",
    "These can be words which are unseen in both positive and negative training reviews (case 1), but also words which are seen in reviews _of only one sentiment class_ in the training dataset (case 2). In both cases, **you should skip these words for both classes at test time**.  What would be the problem instead with skipping words only for one class in case 2?"
   ]
  },
  {
   "cell_type": "markdown",
   "metadata": {
    "id": "BanFiYYnoxDW"
   },
   "source": [
    "$\\textbf{Answer}$\n",
    "\n",
    "For a test document, we score each class based on the sum of conditional log likelihoods of words. For a word that is unseen in one class but seen in the other, if we skip that word for one class at test time, effectively we set the conditional likelihood of that word to zero for that class while we do consider its contibution to the score for the other class."
   ]
  },
  {
   "cell_type": "markdown",
   "metadata": {
    "id": "gsZRhaI3WvzC"
   },
   "source": [
    "#### (Q2.2) Train your classifier on (positive and negative) reviews with cv-value 000-899, and test it on the remaining (positive and negative) reviews cv900–cv999.  Report results using classification accuracy as your evaluation metric. Your  features are the word vocabulary. The value of a feature is the count of that feature (word) in the document. (2pts)\n"
   ]
  },
  {
   "cell_type": "code",
   "execution_count": 33,
   "metadata": {
    "id": "G7zaJYGFvIJ3"
   },
   "outputs": [],
   "source": [
    "# YOUR CODE HERE\n",
    "def train_NB(C, D):\n",
    "    \n",
    "    Ndoc = len(D)\n",
    "    log_prior = {}\n",
    "    log_likelihood = {}\n",
    "    big_doc = {}\n",
    "\n",
    "    # Make vocab for all documents\n",
    "    V_pos = set()\n",
    "    V_neg = set()\n",
    "    for doc in D:\n",
    "        if doc['sentiment'] == 'POS':\n",
    "            for s in doc[\"content\"]:\n",
    "                for w, _ in s:\n",
    "                    V_pos.add(w.lower())\n",
    "        elif doc['sentiment'] == 'NEG':\n",
    "            for s in doc[\"content\"]:\n",
    "                for w, _ in s:\n",
    "                    V_neg.add(w.lower())\n",
    "    \n",
    "    V = V_pos.intersection(V_neg)      # Train only on words that appear in both POS and NEG documents\n",
    "\n",
    "    # Calculate P(w|c)\n",
    "    for c in C:\n",
    "        big_doc[c] = [doc for doc in D if doc[\"sentiment\"] == c]\n",
    "        Nc = len(big_doc[c])\n",
    "        log_prior[c] = np.log(Nc/Ndoc) if Nc > 0 else -np.inf\n",
    "        word_counts = Counter()\n",
    "        # Count occurences of each w in big_doc[c]\n",
    "        for doc in big_doc[c]:\n",
    "            for sentence in doc['content']:\n",
    "                for word, pos_tag in sentence:\n",
    "                    word_counts[word.lower()] += 1\n",
    "        \n",
    "        sum1 = sum(word_counts[v] for v in V)\n",
    "\n",
    "        for w in V:\n",
    "            log_likelihood[w,c] = np.log(word_counts[w]) - np.log(sum1) if word_counts[w] > 0 else -np.inf                 # no smoothing yet?\n",
    "    \n",
    "    return log_prior,log_likelihood,V_pos,V_neg\n",
    "        \n",
    "      \n",
    "def test_NB(testdoc,log_prior,log_likelihood,C,V_pos,V_neg):\n",
    "    V_int = V_pos & V_neg\n",
    "    sum_c = {}\n",
    "    for c in C:\n",
    "        sum_c[c] = log_prior[c]\n",
    "        for sentence in testdoc['content']:\n",
    "            for word, pos_tag in sentence:\n",
    "                if word in V_int:\n",
    "                    sum_c[c] += log_likelihood.get((word, c), 0)\n",
    "    return max(sum_c, key=sum_c.get)"
   ]
  },
  {
   "cell_type": "code",
   "execution_count": 34,
   "metadata": {},
   "outputs": [
    {
     "name": "stdout",
     "output_type": "stream",
     "text": [
      "Naive Bayes accuracy: 0.845\n"
     ]
    }
   ],
   "source": [
    "train_set = [r for r in reviews if r['cv'] < 900]\n",
    "test_set = [r for r in reviews if r['cv'] >= 900]\n",
    "\n",
    "log_prior, log_likelihood, V_pos,V_neg =train_NB(['POS','NEG'], train_set)\n",
    "test_results = [test_NB(testdoc, log_prior, log_likelihood, ['POS','NEG'], V_pos,V_neg) for testdoc in test_set]\n",
    "\n",
    "nb_accuracy = accuracy2(test_results,test_set)\n",
    "print(\"Naive Bayes accuracy:\", nb_accuracy)"
   ]
  },
  {
   "cell_type": "markdown",
   "metadata": {
    "id": "0INK-PBoM6CB"
   },
   "source": [
    "#### (Q2.3) Would you consider accuracy to also be a good way to evaluate your classifier in a situation where 90% of your data instances are of positive movie reviews? (1pt)\n",
    "\n",
    "Simulate this scenario by keeping the positive reviews\n",
    "data unchanged, but only using negative reviews cv000–cv089 for\n",
    "training, and cv900–cv909 for testing. Calculate the classification\n",
    "accuracy, and explain what changed."
   ]
  },
  {
   "cell_type": "code",
   "execution_count": 35,
   "metadata": {
    "id": "GWDkt5ZrrFGp"
   },
   "outputs": [
    {
     "name": "stdout",
     "output_type": "stream",
     "text": [
      "same bias in test accuracy: 0.9090909090909091\n",
      "opposite bias in test accuracy: 0.18181818181818182\n"
     ]
    }
   ],
   "source": [
    "# YOUR CODE HERE\n",
    "train_set = [r for r in reviews if r['sentiment'] == 'POS' and r['cv'] < 900] + [r for r in reviews if r['sentiment'] == 'NEG' and r['cv'] < 90]    \n",
    "test_set_1 = [r for r in reviews if r['sentiment'] == 'POS' and r['cv'] >= 900] + [r for r in reviews if r['sentiment'] == 'NEG' and 900 <= r['cv'] < 910]\n",
    "test_set_2 = [r for r in reviews if r['sentiment'] == 'NEG' and r['cv'] >= 900] + [r for r in reviews if r['sentiment'] == 'POS' and 900 <= r['cv'] < 910]\n",
    "\n",
    "\n",
    "log_prior, log_likelihood, V_pos,V_neg = train_NB(['POS','NEG'], train_set)\n",
    "\n",
    "test_results_1 = [test_NB(testdoc, log_prior, log_likelihood, ['POS','NEG'], V_pos,V_neg) for testdoc in test_set_1]\n",
    "test_1_accuracy = accuracy2(test_results_1, test_set_1)\n",
    "print(\"same bias in test accuracy:\", test_1_accuracy)\n",
    "\n",
    "test_results_2 = [test_NB(testdoc, log_prior, log_likelihood, ['POS','NEG'], V_pos,V_neg) for testdoc in test_set_2]\n",
    "test_2_accuracy = accuracy2(test_results_2, test_set_2)\n",
    "print(\"opposite bias in test accuracy:\", test_2_accuracy)"
   ]
  },
  {
   "cell_type": "markdown",
   "metadata": {
    "id": "oFbcsYlipBAw"
   },
   "source": [
    "$\\textbf{Answer}$\n",
    "We can see the accuract is very high, but this is misleading. The classifier is not learning much from the negative reviews, so it is probably not generalizing well to unseen data. The classifier is just predicting the majority class, which is positive reviews. This is a case of class imbalance, and we should use other metrics like precision, recall, and F1 score to evaluate the classifier."
   ]
  },
  {
   "cell_type": "markdown",
   "metadata": {
    "id": "6wJzcHX3WUDm"
   },
   "source": [
    "## Smoothing (1pt)\n",
    "\n",
    "As mentioned above, the presence of words in the test dataset that\n",
    "have not been seen during training can cause probabilities in the Naive\n",
    "Bayes classifier to be $0$, thus making that particular test instance\n",
    "undecidable. The standard way to mitigate this effect (as well as to\n",
    "give more clout to rare words) is to use smoothing, in which the\n",
    "probability fraction\n",
    "$$\\frac{\\text{count}(w_i, c)}{\\sum\\limits_{w\\in V} \\text{count}(w, c)}$$\n",
    "for a word $w_i$ becomes\n",
    "$$\\frac{\\text{count}(w_i, c) + \\text{smoothing}(w_i)}{\\sum\\limits_{w\\in V} \\text{count}(w, c) + \\sum\\limits_{w \\in V} \\text{smoothing}(w)}$$\n",
    "\n",
    "\n",
    "\n"
   ]
  },
  {
   "cell_type": "markdown",
   "metadata": {
    "id": "PBNIcbwUWphC"
   },
   "source": [
    "#### (Q2.4) Implement Laplace feature smoothing (1pt)\n",
    "Implement Laplace smoothing, i.e., smoothing with a constant value ($smoothing(w) = \\kappa, \\forall w \\in V$), in your Naive\n",
    "Bayes classifier’s code, and report the accuracy.\n",
    "Use $\\kappa = 1$."
   ]
  },
  {
   "cell_type": "code",
   "execution_count": 36,
   "metadata": {
    "id": "g03yflCc9kpW"
   },
   "outputs": [],
   "source": [
    "# YOUR CODE HERE\n",
    "def train_NB_smoothing(C, D, **kwargs):\n",
    "    kappa = kwargs.get('kappa', 1)\n",
    "    \n",
    "    Ndoc = len(D)\n",
    "    log_prior = {}\n",
    "    log_likelihood = {}\n",
    "    big_doc = {}\n",
    "\n",
    "    # Make vocab for all documents\n",
    "    V_pos = set()\n",
    "    V_neg = set()\n",
    "    for doc in D:\n",
    "        if doc['sentiment'] == 'POS':\n",
    "            for s in doc[\"content\"]:\n",
    "                for w, _ in s:\n",
    "                    V_pos.add(w.lower())\n",
    "        elif doc['sentiment'] == 'NEG':\n",
    "            for s in doc[\"content\"]:\n",
    "                for w, _ in s:\n",
    "                    V_neg.add(w.lower())\n",
    "    \n",
    "    V = V_pos.union(V_neg)      # Train every word that appears in either POS or NEG documents\n",
    "\n",
    "    # Calculate P(w|c)\n",
    "    for c in C:\n",
    "        big_doc[c] = [doc for doc in D if doc[\"sentiment\"] == c]\n",
    "        Nc = len(big_doc[c])\n",
    "        log_prior[c] = np.log(Nc/Ndoc) if Nc > 0 else -np.inf\n",
    "        word_counts = Counter()\n",
    "        # Count occurences of each w in big_doc[c]\n",
    "        for doc in big_doc[c]:\n",
    "            for sentence in doc['content']:\n",
    "                for word, pos_tag in sentence:\n",
    "                    word_counts[word.lower()] += 1\n",
    "        \n",
    "        sum1 = sum(word_counts[v] for v in V)\n",
    "\n",
    "        for w in V:\n",
    "            log_likelihood[w,c] = np.log(word_counts[w] + kappa) - np.log(sum1 + len(V)*kappa)\n",
    "            \n",
    "    return log_prior,log_likelihood,V_pos,V_neg"
   ]
  },
  {
   "cell_type": "code",
   "execution_count": 37,
   "metadata": {},
   "outputs": [
    {
     "name": "stdout",
     "output_type": "stream",
     "text": [
      "Naive Bayes with smoothing accuracy: 0.855\n"
     ]
    }
   ],
   "source": [
    "train_set = [r for r in reviews if r['cv'] < 900]\n",
    "test_set = [r for r in reviews if r['cv'] >= 900]\n",
    "\n",
    "log_prior, log_likelihood, V_pos,V_neg = train_NB_smoothing(['POS','NEG'], train_set, kappa = 1)\n",
    "\n",
    "test_results = [test_NB(testdoc, log_prior, log_likelihood, ['POS','NEG'], V_pos,V_neg) for testdoc in test_set]\n",
    "NB_smooth_accuracy = accuracy2(test_results, test_set)\n",
    "print(\"Naive Bayes with smoothing accuracy:\", NB_smooth_accuracy)"
   ]
  },
  {
   "cell_type": "markdown",
   "metadata": {
    "id": "ZiGcgwba87D5"
   },
   "source": [
    "## Cross-Validation (1.5pts)\n",
    "\n",
    "A serious danger in using Machine Learning on small datasets, with many\n",
    "iterations of slightly different versions of the algorithms, is ending up with Type III errors, also called the “testing hypotheses\n",
    "suggested by the data” errors. This type of error occurs when we make\n",
    "repeated improvements to our classifiers by playing with features and\n",
    "their processing, but we don’t get a fresh, never-before seen test\n",
    "dataset every time. Thus, we risk developing a classifier that gets better\n",
    "and better on our data, but only gets worse at generalizing to new, unseen data. In other words, we risk developping a classifier that overfits.\n",
    "\n",
    "A simple method to guard against Type III errors is to use\n",
    "Cross-Validation. In **N-fold Cross-Validation**, we divide the data into N\n",
    "distinct chunks, or folds. Then, we repeat the experiment N times: each\n",
    "time holding out one of the folds for testing, training our classifier\n",
    "on the remaining N - 1 data folds, and reporting performance on the\n",
    "held-out fold. We can use different strategies for dividing the data:\n",
    "\n",
    "-   Consecutive splitting:\n",
    "  - cv000–cv099 = Split 1\n",
    "  - cv100–cv199 = Split 2\n",
    "  - etc.\n",
    "  \n",
    "-   Round-robin splitting (mod 10):\n",
    "  - cv000, cv010, cv020, … = Split 1\n",
    "  - cv001, cv011, cv021, … = Split 2\n",
    "  - etc.\n",
    "\n",
    "-   Random sampling/splitting\n",
    "  - Not used here (but you may choose to split this way in a non-educational situation)\n",
    "\n"
   ]
  },
  {
   "cell_type": "markdown",
   "metadata": {
    "id": "8OeLcbSauGtR"
   },
   "source": [
    "#### (Q2.5) Write the code to implement 10-fold cross-validation using round-robin splitting for your Naive Bayes classifier from Q2.4 and compute the 10 accuracies. Report the final performance, which is the average of the performances per fold. If all splits perform equally well, this is a good sign. (1pt)"
   ]
  },
  {
   "cell_type": "code",
   "execution_count": 38,
   "metadata": {
    "id": "3KeCGPa7Nuzx"
   },
   "outputs": [
    {
     "name": "stdout",
     "output_type": "stream",
     "text": [
      "Accuracy for fold 1: 0.7750\n",
      "Accuracy for fold 2: 0.8350\n",
      "Accuracy for fold 3: 0.8400\n",
      "Accuracy for fold 4: 0.8550\n",
      "Accuracy for fold 5: 0.7800\n",
      "Accuracy for fold 6: 0.8350\n",
      "Accuracy for fold 7: 0.8450\n",
      "Accuracy for fold 8: 0.8000\n",
      "Accuracy for fold 9: 0.8500\n",
      "Accuracy for fold 10: 0.8450\n",
      "\n",
      "Average accuracy across all folds: 0.8260\n"
     ]
    }
   ],
   "source": [
    "# YOUR CODE HERE\n",
    "def round_robin_split(data, n_splits=10):\n",
    "    \"\"\"\n",
    "    Split data into `n_splits` using round-robin splitting.\n",
    "    Each split i contains every nth item from data.\n",
    "    \"\"\"\n",
    "    folds = [[] for _ in range(n_splits)]\n",
    "    for index, doc in enumerate(data):\n",
    "        folds[index % n_splits].append(doc)\n",
    "    return folds\n",
    "\n",
    "def cross_validate_NB(data, train_classifier, test_function, **kwargs):\n",
    "    # Perform round-robin split\n",
    "    n_splits = kwargs.get('n_splits', 10)\n",
    "    folds = round_robin_split(data, n_splits=n_splits)\n",
    "    accuracies = []\n",
    "\n",
    "    # Perform N-fold cross-validation\n",
    "    for i in range(n_splits):\n",
    "        # Prepare training and test sets\n",
    "        test_fold = folds[i]\n",
    "        train_folds = [folds[j] for j in range(n_splits) if j != i]\n",
    "        train_data = [doc for fold in train_folds for doc in fold]\n",
    "\n",
    "        # Train the classifier on the training data\n",
    "        log_prior, log_likelihood, V_pos, V_neg = train_classifier(['POS', 'NEG'], train_data, **kwargs)\n",
    "\n",
    "\n",
    "        # Test the classifier on the test data\n",
    "        test_results = [test_function(testdoc, log_prior, log_likelihood, ['POS', 'NEG'], V_pos, V_neg) for testdoc in test_fold]\n",
    "        \n",
    "        # Calculate accuracy for this fold\n",
    "        accuracy = accuracy2(test_results, test_fold)\n",
    "        accuracies.append(accuracy)\n",
    "\n",
    "        print(f\"Accuracy for fold {i + 1}: {accuracy:.4f}\")\n",
    "\n",
    "    # Calculate average accuracy\n",
    "    average_accuracy = np.mean(accuracies)\n",
    "    print(f\"\\nAverage accuracy across all folds: {average_accuracy:.4f}\")\n",
    "    return accuracies, average_accuracy\n",
    "\n",
    "accuracies, average_accuracy = cross_validate_NB(reviews, train_NB_smoothing, test_NB, kappa=1, n_splits=10)"
   ]
  },
  {
   "cell_type": "markdown",
   "metadata": {
    "id": "otdlsDXBNyOa"
   },
   "source": [
    "#### (Q2.6) Report the variance of the 10 accuracy scores. (0.5pt)\n",
    "\n",
    "**Please report all future results using 10-fold cross-validation now\n",
    "(unless told to use the held-out test set).** Note: you're not allowed to use a library for computing the variance."
   ]
  },
  {
   "cell_type": "code",
   "execution_count": 39,
   "metadata": {
    "id": "ZoBQm1KuNzNR"
   },
   "outputs": [
    {
     "name": "stdout",
     "output_type": "stream",
     "text": [
      "Variance: 0.0008\n"
     ]
    }
   ],
   "source": [
    "# YOUR CODE HERE\n",
    "\n",
    "# IMPLEMENT FORMULA DIRECTLY\n",
    "def variance(accuracies):\n",
    "    N = len(accuracies)\n",
    "    mean = sum(accuracies) / N\n",
    "    variance = sum((x - mean)**2 for x in accuracies) / N\n",
    "    return variance\n",
    "print(f\"Variance: {variance(accuracies):.4f}\")"
   ]
  },
  {
   "cell_type": "markdown",
   "metadata": {
    "id": "s6A2zX9_BRKm"
   },
   "source": [
    "## Features, overfitting, and the curse of dimensionality\n",
    "\n",
    "In the Bag-of-Words model, ideally we would like each distinct word in\n",
    "the text to be mapped to its own dimension in the output vector\n",
    "representation. However, real world text is messy, and we need to decide\n",
    "on what we consider to be a word. For example, is “`word`\" different\n",
    "from “`Word`\", from “`word`”, or from “`words`\"? Too strict a\n",
    "definition, and the number of features explodes, while our algorithm\n",
    "fails to learn anything generalisable. Too lax, and we risk destroying\n",
    "our learning signal. In the following section, you will learn about\n",
    "confronting the feature sparsity and the overfitting problems as they\n",
    "occur in NLP classification tasks."
   ]
  },
  {
   "cell_type": "markdown",
   "metadata": {
    "id": "EKK8FNt8VtcZ"
   },
   "source": [
    "### Stemming (1.5pts)\n",
    "\n",
    "To make your algorithm more robust, use stemming and hash different inflections of a word to the same feature in the BoW vector space. Please use the [Porter stemming\n",
    "    algorithm](http://www.nltk.org/howto/stem.html) from NLTK.\n",
    "\n"
   ]
  },
  {
   "cell_type": "code",
   "execution_count": 40,
   "metadata": {
    "id": "NxtCul1IrBi_"
   },
   "outputs": [],
   "source": [
    "# YOUR CODE HERE\n",
    "def train_NB_smoothing_stemmed(C, D, **kwargs):\n",
    "        kappa = kwargs.get('kappa', 1)\n",
    "        stemmer = kwargs.get('stemmer', PorterStemmer())\n",
    "        \n",
    "        Ndoc = len(D)\n",
    "        log_prior = {}\n",
    "        log_likelihood = {}\n",
    "        big_doc = {}\n",
    "    \n",
    "        # Make vocab for all documents\n",
    "        V_pos = set()\n",
    "        V_neg = set()\n",
    "        for doc in D:\n",
    "            if doc['sentiment'] == 'POS':\n",
    "                for s in doc[\"content\"]:\n",
    "                    for w, _ in s:\n",
    "                        V_pos.add(stemmer.stem(w))\n",
    "            elif doc['sentiment'] == 'NEG':\n",
    "                for s in doc[\"content\"]:\n",
    "                    for w, _ in s:\n",
    "                        V_neg.add(stemmer.stem(w))\n",
    "        \n",
    "        V = V_pos.union(V_neg)\n",
    "    \n",
    "        # Calculate P(w|c)\n",
    "        for c in C:\n",
    "            big_doc[c] = [doc for doc in D if doc[\"sentiment\"] == c]\n",
    "            Nc = len(big_doc[c])\n",
    "            log_prior[c] = np.log(Nc/Ndoc) if Nc > 0 else -np.inf\n",
    "            word_counts = Counter()\n",
    "            # Count occurences of each w in big_doc[c]\n",
    "            for doc in big_doc[c]:\n",
    "                for s in doc['content']:\n",
    "                    for w, _ in s:\n",
    "                        word_counts[stemmer.stem(w)] += 1\n",
    "            \n",
    "            sum1 = sum(word_counts[v] for v in V)\n",
    "    \n",
    "            for w in V:\n",
    "                log_likelihood[w,c] = np.log(word_counts[w] + kappa) - np.log(sum1 + len(V)*kappa)\n",
    "        \n",
    "        return log_prior,log_likelihood,V_pos,V_neg\n"
   ]
  },
  {
   "cell_type": "markdown",
   "metadata": {
    "id": "6SrJ1BeLXTnk"
   },
   "source": [
    "#### (Q2.7): How does the performance of your classifier change when you use stemming on your training and test datasets? (1pt)\n",
    "Use cross-validation to evaluate the classifier.\n"
   ]
  },
  {
   "cell_type": "code",
   "execution_count": 41,
   "metadata": {
    "id": "gYqKBOiIrInT"
   },
   "outputs": [
    {
     "name": "stdout",
     "output_type": "stream",
     "text": [
      "Accuracy for fold 1: 0.7000\n",
      "Accuracy for fold 2: 0.7850\n",
      "Accuracy for fold 3: 0.7950\n",
      "Accuracy for fold 4: 0.7850\n",
      "Accuracy for fold 5: 0.6950\n",
      "Accuracy for fold 6: 0.7800\n",
      "Accuracy for fold 7: 0.8100\n",
      "Accuracy for fold 8: 0.7650\n",
      "Accuracy for fold 9: 0.7950\n",
      "Accuracy for fold 10: 0.7900\n",
      "\n",
      "Average accuracy across all folds: 0.7700\n",
      "Variances: 0.0014\n"
     ]
    }
   ],
   "source": [
    "# YOUR CODE HERE\n",
    "accuracies, average_accuracy = cross_validate_NB(reviews, train_NB_smoothing_stemmed, test_NB, kappa=1, n_splits=10)\n",
    "print(f'Variances: {variance(accuracies):.4f}')"
   ]
  },
  {
   "cell_type": "markdown",
   "metadata": {
    "id": "JkDHVq_1XUVP"
   },
   "source": [
    "#### (Q2.8) What happens to the number of features (i.e., the size of the vocabulary) when using stemming as opposed to (Q2.4)? (0.5pt)\n",
    "Give actual numbers. You can use the held-out training set to determine these."
   ]
  },
  {
   "cell_type": "code",
   "execution_count": 42,
   "metadata": {
    "id": "MA3vee5-rJyy"
   },
   "outputs": [
    {
     "name": "stdout",
     "output_type": "stream",
     "text": [
      "Number of features with stemming: 32404\n",
      "Number of features without stemming: 45348\n"
     ]
    }
   ],
   "source": [
    "# YOUR CODE HERE\n",
    "C = ['POS','NEG']\n",
    "D = train_set\n",
    "\n",
    "log_prior,log_likelihood,V_pos,V_neg = train_NB_smoothing_stemmed(C, D)\n",
    "V_stemmed = V_pos.union(V_neg)\n",
    "print(f'Number of features with stemming: {len(V_stemmed)}')\n",
    "\n",
    "log_prior,log_likelihood,V_pos,V_neg = train_NB_smoothing(C, D)\n",
    "V_not_stemmed = V_pos.union(V_neg)\n",
    "print(f'Number of features without stemming: {len(V_not_stemmed)}')"
   ]
  },
  {
   "cell_type": "markdown",
   "metadata": {
    "id": "SoazfxbNV5Lq"
   },
   "source": [
    "### N-grams (1.5pts)\n",
    "\n",
    "A simple way of retaining some of the word\n",
    "order information when using bag-of-words representations is to use **n-gram** features.\n",
    "\n",
    "\n",
    "\n",
    "\n"
   ]
  },
  {
   "cell_type": "markdown",
   "metadata": {
    "id": "OHjy3I7-qWiu"
   },
   "source": [
    "#### (Q2.9) Retrain your classifier from (Q2.4) using **unigrams+bigrams** and **unigrams+bigrams+trigrams** as features. (1pt)\n",
    "Report accuracy and compare it with that of the approaches you have previously implemented. You are allowed to use NLTK to build n-grams from sentences."
   ]
  },
  {
   "cell_type": "code",
   "execution_count": 43,
   "metadata": {
    "id": "eYuKMTOpq9jz"
   },
   "outputs": [],
   "source": [
    "# YOUR CODE HERE\n",
    "def train_NB_smoothing_ngrams(C, D, **kwargs):\n",
    "    kappa = kwargs.get('kappa', 1)\n",
    "    tri = kwargs.get('tri', False)\n",
    "    \n",
    "    Ndoc = len(D)\n",
    "    log_prior = {}\n",
    "    log_likelihood = {}\n",
    "    big_doc = {}\n",
    "\n",
    "    # Make vocab for all documents\n",
    "    V_pos = set()\n",
    "    V_neg = set()\n",
    "    for doc in D:\n",
    "        if doc['sentiment'] == 'POS':\n",
    "            for s in doc[\"content\"]:\n",
    "                words = [word.lower() for word, pos in s]\n",
    "                V_pos.update(ngrams(words,1))\n",
    "                V_pos.update(ngrams(words,2))\n",
    "                if tri: V_pos.update(ngrams(words,3))\n",
    "        elif doc['sentiment'] == 'NEG':\n",
    "            for s in doc[\"content\"]:\n",
    "                words = [word.lower() for word, pos in s]\n",
    "                V_neg.update(ngrams(words,1))\n",
    "                V_neg.update(ngrams(words,2))\n",
    "                if tri: V_neg.update(ngrams(words,3))\n",
    "    \n",
    "    V = V_pos.union(V_neg)\n",
    "\n",
    "    # Calculate P(w|c)\n",
    "    for c in C:\n",
    "        big_doc[c] = [doc for doc in D if doc[\"sentiment\"] == c]\n",
    "        Nc = len(big_doc[c])\n",
    "        log_prior[c] = np.log(Nc/Ndoc) if Nc > 0 else -np.inf\n",
    "        ngrams_counts = Counter()\n",
    "        # Count occurences of each w in big_doc[c]\n",
    "        for doc in big_doc[c]:\n",
    "            for s in doc['content']:\n",
    "                words = [word.lower() for word, pos in s]\n",
    "                ngrams_counts.update(ngrams(words,1))\n",
    "                ngrams_counts.update(ngrams(words,2))\n",
    "                if tri: ngrams_counts.update(ngrams(words,3))\n",
    "        sum1 = sum(ngrams_counts[ngram] for ngram in V)\n",
    "        \n",
    "        for ngram in V:\n",
    "            log_likelihood[ngram, c] = np.log(ngrams_counts[ngram] + kappa) - np.log(sum1 + len(V)*kappa)\n",
    "            \n",
    "    return log_prior,log_likelihood,V_pos,V_neg\n",
    "\n",
    "def test_NB_ngrams(testdoc,log_prior,log_likelihood,C,V_pos,V_neg,tri=False):\n",
    "    V_int = V_pos & V_neg\n",
    "    sum1 = {}\n",
    "    for c in C:\n",
    "        sum1[c] = log_prior[c]\n",
    "        for sentence in testdoc['content']:\n",
    "            words = [word.lower() for word, pos in sentence]\n",
    "            \n",
    "            for ngram in ngrams(words,1):\n",
    "                if ngram in V_int:\n",
    "                    sum1[c] += log_likelihood.get((ngram, c), 0)\n",
    "            \n",
    "            for ngram in ngrams(words,2):\n",
    "                if ngram in V_int:\n",
    "                    sum1[c] += log_likelihood.get((ngram, c), 0)\n",
    "            \n",
    "            if tri:\n",
    "                for ngram in ngrams(words,3):\n",
    "                    if ngram in V_int:\n",
    "                        sum1[c] += log_likelihood.get((ngram, c), 0)\n",
    "                \n",
    "    return max(sum1, key=sum1.get)  "
   ]
  },
  {
   "cell_type": "markdown",
   "metadata": {
    "id": "dVrGGArkrWoL"
   },
   "source": [
    "\n",
    "#### Q2.10: How many features does the BoW model have to take into account now? (0.5pt)\n",
    "How would you expect the number of features to increase theoretically (e.g., linear, square, cubed, exponential)? How does this number compare, in practice, to the number of features at (Q2.8)?\n",
    "\n",
    "Use the held-out training set once again for this.\n"
   ]
  },
  {
   "cell_type": "code",
   "execution_count": 44,
   "metadata": {
    "id": "_z8sAJeUrdtM"
   },
   "outputs": [
    {
     "name": "stdout",
     "output_type": "stream",
     "text": [
      "Accuracy for fold 1: 0.7700\n",
      "Accuracy for fold 2: 0.8350\n",
      "Accuracy for fold 3: 0.8250\n",
      "Accuracy for fold 4: 0.8750\n",
      "Accuracy for fold 5: 0.8100\n",
      "Accuracy for fold 6: 0.8400\n",
      "Accuracy for fold 7: 0.8600\n",
      "Accuracy for fold 8: 0.8050\n",
      "Accuracy for fold 9: 0.8500\n",
      "Accuracy for fold 10: 0.8200\n",
      "\n",
      "Average accuracy across all folds: 0.8290\n",
      "Average accuracy for bigrams: 0.8290\n",
      "Accuracy for fold 1: 0.7450\n",
      "Accuracy for fold 2: 0.7750\n",
      "Accuracy for fold 3: 0.8150\n",
      "Accuracy for fold 4: 0.8450\n",
      "Accuracy for fold 5: 0.7750\n",
      "Accuracy for fold 6: 0.7950\n",
      "Accuracy for fold 7: 0.8200\n",
      "Accuracy for fold 8: 0.7900\n",
      "Accuracy for fold 9: 0.8250\n",
      "Accuracy for fold 10: 0.8050\n",
      "\n",
      "Average accuracy across all folds: 0.7990\n",
      "Average accuracy for trigrams: 0.7990\n"
     ]
    }
   ],
   "source": [
    "# YOUR CODE HERE\n",
    "accuracies_bi, average_accuracy_bi = cross_validate_NB(reviews, train_NB_smoothing_ngrams, test_NB_ngrams, tri=False)\n",
    "print(f'Average accuracy for bigrams: {average_accuracy_bi:.4f}')\n",
    "\n",
    "accuracies_tri, average_accuracy_tri = cross_validate_NB(reviews, train_NB_smoothing_ngrams, test_NB_ngrams, tri=True)\n",
    "print(f'Average accuracy for trigrams: {average_accuracy_tri:.4f}')"
   ]
  },
  {
   "cell_type": "code",
   "execution_count": 45,
   "metadata": {},
   "outputs": [
    {
     "name": "stdout",
     "output_type": "stream",
     "text": [
      "Number of features with unigrams: 45348\n",
      "Number of features with unigrams+bigrams: 465262\n",
      "Number of features with unigrams+bigrams+trigrams: 1346107\n"
     ]
    }
   ],
   "source": [
    "log_prior,log_likelihood,V_pos,V_neg = train_NB_smoothing(C, D)\n",
    "V_uni = V_pos.union(V_neg)\n",
    "print(f'Number of features with unigrams: {len(V_uni)}')\n",
    "\n",
    "log_prior,log_likelihood,V_pos,V_neg = train_NB_smoothing_ngrams(C, D, tri=False)\n",
    "V_uni_bi = V_pos.union(V_neg)\n",
    "print(f'Number of features with unigrams+bigrams: {len(V_uni_bi)}')\n",
    "\n",
    "log_prior,log_likelihood,V_pos,V_neg = train_NB_smoothing_ngrams(C, D, tri=True)\n",
    "V_uni_bi_tri = V_pos.union(V_neg)\n",
    "print(f'Number of features with unigrams+bigrams+trigrams: {len(V_uni_bi_tri)}')"
   ]
  },
  {
   "cell_type": "markdown",
   "metadata": {
    "id": "yEGZ9SV8pPaa"
   },
   "source": [
    "$\\textbf{Answer}$\n",
    "\n",
    "If we have a vocabulary of length $V$, the number of possible unigrams made of this vocabulary is $V$, the number of possible bigrams is $V^2$, and the number of possible trigrams is $V^3$. \n",
    "Therefore if the words in sentences were totally random we would expect the number of features to increase quadratically using bigrams and cubically using trigrams.\n",
    "\n",
    "However, in practice, we don't see the increase in the number of features to be this high. This is because the words in sentences are not totally random and some bigrams(trigrams) are possible(and occuring) in a legit sentence while others are not. \n",
    "\n",
    "From data we see a linear increase. This may be because we are using a specific dataset, out of which we are extracting n-grams. Since every sentence of length $n$ has $n$ unigrams, $n-1$ bigrams, and $n-2$ trigrams, the maximum number of unigrams+bigrams that can be extracted from each sentence is $2n-1$ and the maximum number of unigrams+bigrams+trigrams that can be extracted from each sentence is $3n-3$, which is a linear scaling. \n",
    "In practice, again however, we see higher increase going from unigrams to bigrams to trigrams. This is because the unigrams are more likely to be seen multiple times, while bigrams and trigrams are each less likely to be seen multiple times.\n",
    "\n",
    "The number of features will therefore be more than the number of features at Q2.8 because we are adding more n-grams to the feature set.\n"
   ]
  },
  {
   "cell_type": "markdown",
   "metadata": {
    "id": "CHWKDL3YV6vh"
   },
   "source": [
    "# (3) Support Vector Machines (4pts)"
   ]
  },
  {
   "cell_type": "markdown",
   "metadata": {
    "id": "hJSYhcVaoJGt"
   },
   "source": [
    "Though simple to understand, implement, and debug, one\n",
    "major problem with the Naive Bayes classifier is that its performance\n",
    "deteriorates (becomes skewed) when it is being used with features which\n",
    "are not independent (i.e., are correlated). Another popular classifier\n",
    "that doesn’t scale as well to big data, and is not as simple to debug as\n",
    "Naive Bayes, but that doesn’t assume feature independence is the Support\n",
    "Vector Machine (SVM) classifier.\n",
    "\n",
    "You can find more details about SVMs in Chapter 7 of Bishop: Pattern Recognition and Machine Learning.\n",
    "Other sources for learning SVM:\n",
    "* http://web.mit.edu/zoya/www/SVM.pdf\n",
    "* http://www.cs.columbia.edu/~kathy/cs4701/documents/jason_svm_tutorial.pdf\n",
    "* https://pythonprogramming.net/support-vector-machine-intro-machine-learning-tutorial/\n",
    "\n",
    "\n",
    "\n",
    "\n",
    "\n",
    "\n",
    "\n",
    "Use the scikit-learn implementation of\n",
    "[SVM](http://scikit-learn.org/stable/modules/svm.html) with the default parameters. (You are not expected to perform any hyperparameter tuning, but feel free to do it if you think it gives you good insights for the discussion in question 5.)\n",
    "\n"
   ]
  },
  {
   "cell_type": "markdown",
   "metadata": {
    "id": "0LnzNtQBV8gr"
   },
   "source": [
    "#### (Q3.1): Train SVM and compare to Naive Bayes (2pts)\n",
    "\n",
    "Train an SVM classifier (sklearn.svm.LinearSVC) using the features collected for Naive Bayes. Compare the\n",
    "classification performance of the SVM classifier to that of the Naive\n",
    "Bayes classifier with smoothing.\n",
    "Use cross-validation to evaluate the performance of the classifiers.\n",
    "\n"
   ]
  },
  {
   "cell_type": "code",
   "execution_count": 46,
   "metadata": {
    "id": "JBscui8Mvoz0"
   },
   "outputs": [
    {
     "name": "stdout",
     "output_type": "stream",
     "text": [
      "0.82\n"
     ]
    },
    {
     "name": "stderr",
     "output_type": "stream",
     "text": [
      "/home/viki/miniconda3/envs/cv1/lib/python3.12/site-packages/sklearn/svm/_base.py:1235: ConvergenceWarning: Liblinear failed to converge, increase the number of iterations.\n",
      "  warnings.warn(\n"
     ]
    },
    {
     "name": "stdout",
     "output_type": "stream",
     "text": [
      "0.81\n"
     ]
    },
    {
     "name": "stderr",
     "output_type": "stream",
     "text": [
      "/home/viki/miniconda3/envs/cv1/lib/python3.12/site-packages/sklearn/svm/_base.py:1235: ConvergenceWarning: Liblinear failed to converge, increase the number of iterations.\n",
      "  warnings.warn(\n"
     ]
    },
    {
     "name": "stdout",
     "output_type": "stream",
     "text": [
      "0.805\n"
     ]
    },
    {
     "name": "stderr",
     "output_type": "stream",
     "text": [
      "/home/viki/miniconda3/envs/cv1/lib/python3.12/site-packages/sklearn/svm/_base.py:1235: ConvergenceWarning: Liblinear failed to converge, increase the number of iterations.\n",
      "  warnings.warn(\n"
     ]
    },
    {
     "name": "stdout",
     "output_type": "stream",
     "text": [
      "0.835\n",
      "0.835\n",
      "0.855\n",
      "0.845\n"
     ]
    },
    {
     "name": "stderr",
     "output_type": "stream",
     "text": [
      "/home/viki/miniconda3/envs/cv1/lib/python3.12/site-packages/sklearn/svm/_base.py:1235: ConvergenceWarning: Liblinear failed to converge, increase the number of iterations.\n",
      "  warnings.warn(\n"
     ]
    },
    {
     "name": "stdout",
     "output_type": "stream",
     "text": [
      "0.86\n"
     ]
    },
    {
     "name": "stderr",
     "output_type": "stream",
     "text": [
      "/home/viki/miniconda3/envs/cv1/lib/python3.12/site-packages/sklearn/svm/_base.py:1235: ConvergenceWarning: Liblinear failed to converge, increase the number of iterations.\n",
      "  warnings.warn(\n"
     ]
    },
    {
     "name": "stdout",
     "output_type": "stream",
     "text": [
      "0.865\n",
      "0.835\n",
      "\n",
      "Average accuracy across all folds: 0.8365\n"
     ]
    }
   ],
   "source": [
    "# YOUR CODE HERE\n",
    "\n",
    "def cross_validate_SVM(data, train_classifier, V, V_dict, n_splits=10):\n",
    "    # Perform round-robin split\n",
    "    folds = round_robin_split(data, n_splits=n_splits)\n",
    "    accuracies = []\n",
    "\n",
    "    # Perform N-fold cross-validation\n",
    "    for i in range(n_splits):\n",
    "        # Prepare training and test sets\n",
    "        test_fold = folds[i]\n",
    "        train_folds = [folds[j] for j in range(n_splits) if j != i]\n",
    "        train_data = [doc for fold in train_folds for doc in fold]\n",
    "\n",
    "        SVM = train_classifier(train_data, V_dict)\n",
    "\n",
    "        X_test = np.zeros((len(test_fold), len(V_dict)))\n",
    "        y_test = np.zeros(len(test_fold))\n",
    "        \n",
    "        for i, doc in enumerate(test_fold):\n",
    "            word_counts = Counter(w for s in doc['content'] for w, _ in s if w in V_dict)\n",
    "            for w, count in word_counts.items():\n",
    "                X_test[i, V_dict[w]] = count\n",
    "            y_test[i] = 1 if doc['sentiment'] == 'POS' else 0\n",
    "        \n",
    "        X_test = np.array(X_test)\n",
    "        y_test = np.array(y_test)\n",
    "\n",
    "        # Test the classifier and calculate accuracy\n",
    "        predictions = SVM.predict(X_test)\n",
    "        accuracy = np.mean(predictions == y_test)\n",
    "        print(accuracy)\n",
    "        accuracies.append(accuracy)\n",
    "\n",
    "    # Calculate average accuracy\n",
    "    average_accuracy = np.mean(accuracies)\n",
    "    print(f\"\\nAverage accuracy across all folds: {average_accuracy:.4f}\")\n",
    "    return accuracies, average_accuracy\n",
    "\n",
    "def words_vocab(D):\n",
    "    # Make vocab for all documents\n",
    "    V = set()\n",
    "    for doc in D:\n",
    "        for s in doc[\"content\"]:\n",
    "            for w, _ in s:\n",
    "                V.add(w)\n",
    "    \n",
    "    V = sorted(V)\n",
    "    V_dict = {word: i for i, word in enumerate(V)}\n",
    "    return V, V_dict\n",
    "\n",
    "def train_SVM(train_fold, V_dict):\n",
    "\n",
    "    X_train = np.zeros((len(train_fold), len(V_dict)))\n",
    "    y_train = np.zeros(len(train_fold))\n",
    "    for i, doc in enumerate(train_fold):\n",
    "        word_counts = Counter(w for s in doc['content'] for w, _ in s if w in V_dict)\n",
    "        for w, count in word_counts.items():\n",
    "            X_train[i, V_dict[w]] = count\n",
    "        y_train[i] = 1 if doc['sentiment'] == 'POS' else 0\n",
    "\n",
    "    X_train = np.array(X_train)\n",
    "    y_train = np.array(y_train)\n",
    "\n",
    "    # Train the SVM\n",
    "    SVM = sk.svm.LinearSVC()\n",
    "    SVM.fit(X_train, y_train)\n",
    "    return SVM\n",
    "\n",
    "V , V_dict = words_vocab(reviews)\n",
    "C = ['POS','NEG']\n",
    "D = reviews\n",
    "accuracies, average_accuracy = cross_validate_SVM(reviews, train_SVM, V, V_dict)"
   ]
  },
  {
   "cell_type": "markdown",
   "metadata": {
    "id": "ifXVWcK0V9qY"
   },
   "source": [
    "### POS disambiguation (2pts)\n",
    "\n",
    "Now add in part-of-speech features. You will find the\n",
    "movie review dataset has already been POS-tagged for you ([here](https://catalog.ldc.upenn.edu/docs/LDC99T42/tagguid1.pdf) you find the tagset). Try to\n",
    "replicate the results obtained by Pang et al. (2002).\n",
    "\n"
   ]
  },
  {
   "cell_type": "markdown",
   "metadata": {
    "id": "xA3I82o4oWGu"
   },
   "source": [
    "#### (Q3.2) Replace your features with word+POS features, and report performance with the SVM. Use cross-validation to evaluate the classifier and compare the results with (Q3.1). Does part-of-speech information help? Explain why this may be the case. (1pt)\n"
   ]
  },
  {
   "cell_type": "code",
   "execution_count": 47,
   "metadata": {
    "id": "NOvjYe-t2Br6"
   },
   "outputs": [
    {
     "name": "stdout",
     "output_type": "stream",
     "text": [
      "0.83\n"
     ]
    },
    {
     "name": "stderr",
     "output_type": "stream",
     "text": [
      "/home/viki/miniconda3/envs/cv1/lib/python3.12/site-packages/sklearn/svm/_base.py:1235: ConvergenceWarning: Liblinear failed to converge, increase the number of iterations.\n",
      "  warnings.warn(\n"
     ]
    },
    {
     "name": "stdout",
     "output_type": "stream",
     "text": [
      "0.81\n"
     ]
    },
    {
     "name": "stderr",
     "output_type": "stream",
     "text": [
      "/home/viki/miniconda3/envs/cv1/lib/python3.12/site-packages/sklearn/svm/_base.py:1235: ConvergenceWarning: Liblinear failed to converge, increase the number of iterations.\n",
      "  warnings.warn(\n"
     ]
    },
    {
     "name": "stdout",
     "output_type": "stream",
     "text": [
      "0.81\n"
     ]
    },
    {
     "name": "stderr",
     "output_type": "stream",
     "text": [
      "/home/viki/miniconda3/envs/cv1/lib/python3.12/site-packages/sklearn/svm/_base.py:1235: ConvergenceWarning: Liblinear failed to converge, increase the number of iterations.\n",
      "  warnings.warn(\n"
     ]
    },
    {
     "name": "stdout",
     "output_type": "stream",
     "text": [
      "0.835\n",
      "0.85\n"
     ]
    },
    {
     "name": "stderr",
     "output_type": "stream",
     "text": [
      "/home/viki/miniconda3/envs/cv1/lib/python3.12/site-packages/sklearn/svm/_base.py:1235: ConvergenceWarning: Liblinear failed to converge, increase the number of iterations.\n",
      "  warnings.warn(\n"
     ]
    },
    {
     "name": "stdout",
     "output_type": "stream",
     "text": [
      "0.85\n"
     ]
    },
    {
     "name": "stderr",
     "output_type": "stream",
     "text": [
      "/home/viki/miniconda3/envs/cv1/lib/python3.12/site-packages/sklearn/svm/_base.py:1235: ConvergenceWarning: Liblinear failed to converge, increase the number of iterations.\n",
      "  warnings.warn(\n"
     ]
    },
    {
     "name": "stdout",
     "output_type": "stream",
     "text": [
      "0.865\n"
     ]
    },
    {
     "name": "stderr",
     "output_type": "stream",
     "text": [
      "/home/viki/miniconda3/envs/cv1/lib/python3.12/site-packages/sklearn/svm/_base.py:1235: ConvergenceWarning: Liblinear failed to converge, increase the number of iterations.\n",
      "  warnings.warn(\n"
     ]
    },
    {
     "name": "stdout",
     "output_type": "stream",
     "text": [
      "0.835\n",
      "0.86\n",
      "0.83\n",
      "\n",
      "Average accuracy across all folds: 0.8375\n",
      "Variance: 0.0003\n"
     ]
    }
   ],
   "source": [
    "# YOUR CODE HERE\n",
    "def words_POS_vocab(D):\n",
    "    # Make vocab for all documents\n",
    "    V = set()\n",
    "    for doc in D:\n",
    "        for s in doc[\"content\"]:\n",
    "            for w, POS in s:\n",
    "                V.add((w,POS))\n",
    "    V = sorted(V)\n",
    "    V_dict = {word: i for i, word in enumerate(V)}\n",
    "    return V, V_dict\n",
    "\n",
    "D = reviews\n",
    "V, V_dict = words_POS_vocab(D)\n",
    "\n",
    "\n",
    "def train_SVM_POS(D, train_fold, V_dict):\n",
    "\n",
    "    X_train = np.zeros((len(train_fold), len(V_dict)))\n",
    "    y_train = np.zeros(len(train_fold))\n",
    "    for i, doc in enumerate(train_fold):\n",
    "        word_POS_counts = Counter(tuple(word_POS) for s in doc['content'] for word_POS in s if tuple(word_POS) in V_dict)\n",
    "        for word_POS, count in word_POS_counts.items():\n",
    "            X_train[i, V_dict[word_POS]] = count\n",
    "        y_train[i] = 1 if doc['sentiment'] == 'POS' else 0\n",
    "\n",
    "    X_train = np.array(X_train)\n",
    "    y_train = np.array(y_train)\n",
    "\n",
    "    # Train the SVM\n",
    "    SVM = sk.svm.LinearSVC()\n",
    "    SVM.fit(X_train, y_train)\n",
    "    return SVM\n",
    "\n",
    "def cross_validate_SVM_POS(data, train_classifier, V, V_dict, n_splits=10):\n",
    "    # Perform round-robin split\n",
    "    folds = round_robin_split(data, n_splits=n_splits)\n",
    "    accuracies = []\n",
    "\n",
    "    # Perform N-fold cross-validation\n",
    "    for i in range(n_splits):\n",
    "        # Prepare training and test sets\n",
    "        test_fold = folds[i]\n",
    "        train_folds = [folds[j] for j in range(n_splits) if j != i]\n",
    "        \n",
    "        train_data = [doc for fold in train_folds for doc in fold]\n",
    "\n",
    "        SVM = train_classifier(D, train_data, V_dict)\n",
    "\n",
    "        X_test = np.zeros((len(test_fold), len(V_dict)))\n",
    "        y_test = np.zeros(len(test_fold))\n",
    "        \n",
    "        for i, doc in enumerate(test_fold):\n",
    "            word_POS_counts = Counter(tuple(word_POS) for s in doc['content'] for word_POS in s if tuple(word_POS) in V_dict)\n",
    "            for word_POS, count in word_POS_counts.items():\n",
    "                X_test[i, V_dict[word_POS]] = count\n",
    "            y_test[i] = 1 if doc['sentiment'] == 'POS' else 0\n",
    "\n",
    "        X_test = np.array(X_test)\n",
    "        y_test = np.array(y_test)\n",
    "\n",
    "        # Test the classifier and calculate accuracy\n",
    "        predictions = SVM.predict(X_test)\n",
    "        accuracy = np.mean(predictions == y_test)\n",
    "        print(accuracy)\n",
    "        accuracies.append(accuracy)\n",
    "\n",
    "    # Calculate average accuracy\n",
    "    average_accuracy = np.mean(accuracies)\n",
    "    print(f\"\\nAverage accuracy across all folds: {average_accuracy:.4f}\")\n",
    "    print(f\"Variance: {variance(accuracies):.4f}\")\n",
    "    return accuracies, average_accuracy\n",
    "\n",
    "V , V_dict = words_POS_vocab(reviews)\n",
    "C = ['POS','NEG']\n",
    "D = reviews\n",
    "accuracies, average_accuracy = cross_validate_SVM_POS(reviews,train_SVM_POS, V, V_dict)"
   ]
  },
  {
   "cell_type": "markdown",
   "metadata": {
    "id": "L0dt_oQupUNe"
   },
   "source": [
    "$\\textbf{Answer}$\n",
    "\n",
    "It does increase the accuracy. This may be because the model can better discriminte the meaning of indivudual words based on the POS tag."
   ]
  },
  {
   "cell_type": "markdown",
   "metadata": {
    "id": "Su-3w87eMW0w"
   },
   "source": [
    "#### (Q3.3) Discard all closed-class words from your data (keep only nouns, verbs, adjectives, and adverbs), and report performance. Does this help? Use cross-validation to evaluate the classifier and compare the results with (Q3.2). Are closed-class words detrimental to the classifier? Explain why this may be the case. (1pt)"
   ]
  },
  {
   "cell_type": "code",
   "execution_count": 48,
   "metadata": {
    "id": "CCUPlPozCYUX"
   },
   "outputs": [
    {
     "name": "stdout",
     "output_type": "stream",
     "text": [
      "0.84\n",
      "0.835\n"
     ]
    },
    {
     "name": "stderr",
     "output_type": "stream",
     "text": [
      "/home/viki/miniconda3/envs/cv1/lib/python3.12/site-packages/sklearn/svm/_base.py:1235: ConvergenceWarning: Liblinear failed to converge, increase the number of iterations.\n",
      "  warnings.warn(\n"
     ]
    },
    {
     "name": "stdout",
     "output_type": "stream",
     "text": [
      "0.82\n",
      "0.855\n"
     ]
    },
    {
     "name": "stderr",
     "output_type": "stream",
     "text": [
      "/home/viki/miniconda3/envs/cv1/lib/python3.12/site-packages/sklearn/svm/_base.py:1235: ConvergenceWarning: Liblinear failed to converge, increase the number of iterations.\n",
      "  warnings.warn(\n"
     ]
    },
    {
     "name": "stdout",
     "output_type": "stream",
     "text": [
      "0.85\n",
      "0.85\n"
     ]
    },
    {
     "name": "stderr",
     "output_type": "stream",
     "text": [
      "/home/viki/miniconda3/envs/cv1/lib/python3.12/site-packages/sklearn/svm/_base.py:1235: ConvergenceWarning: Liblinear failed to converge, increase the number of iterations.\n",
      "  warnings.warn(\n"
     ]
    },
    {
     "name": "stdout",
     "output_type": "stream",
     "text": [
      "0.865\n"
     ]
    },
    {
     "name": "stderr",
     "output_type": "stream",
     "text": [
      "/home/viki/miniconda3/envs/cv1/lib/python3.12/site-packages/sklearn/svm/_base.py:1235: ConvergenceWarning: Liblinear failed to converge, increase the number of iterations.\n",
      "  warnings.warn(\n"
     ]
    },
    {
     "name": "stdout",
     "output_type": "stream",
     "text": [
      "0.86\n"
     ]
    },
    {
     "name": "stderr",
     "output_type": "stream",
     "text": [
      "/home/viki/miniconda3/envs/cv1/lib/python3.12/site-packages/sklearn/svm/_base.py:1235: ConvergenceWarning: Liblinear failed to converge, increase the number of iterations.\n",
      "  warnings.warn(\n"
     ]
    },
    {
     "name": "stdout",
     "output_type": "stream",
     "text": [
      "0.855\n",
      "0.8\n",
      "\n",
      "Average accuracy across all folds: 0.8430\n",
      "Variance: 0.0004\n"
     ]
    }
   ],
   "source": [
    "# YOUR CODE HERE\n",
    "valid = ['NN', 'NNS', 'NNP', 'NNPS', 'VB', 'VBD', 'VBG', 'VBN', 'VBP', 'VBZ', 'JJ', 'JJR', 'JJS', 'RB', 'RBR', 'RBS']   \n",
    "\n",
    "def words_POS_vocab_valid(D, valid):\n",
    "    # Make vocab for all documents\n",
    "    V = set()\n",
    "    for doc in D:\n",
    "        for s in doc[\"content\"]:\n",
    "            for w, POS in s:\n",
    "                if POS in valid:\n",
    "                    V.add((w,POS))\n",
    "    V = sorted(V)\n",
    "    V_dict = {word: i for i, word in enumerate(V)}\n",
    "    return V, V_dict\n",
    "\n",
    "C = ['POS','NEG']\n",
    "D = reviews\n",
    "V, V_dict = words_POS_vocab_valid(D, valid)\n",
    "accuracies, average_accuracy = cross_validate_SVM_POS(reviews,train_SVM_POS, V, V_dict)\n"
   ]
  },
  {
   "cell_type": "markdown",
   "metadata": {
    "id": "YaxCVrs8pWSp"
   },
   "source": [
    "$\\textbf{Answer}$\n",
    "\n",
    "It does increase the accuracy. Closed class words carry less information on sentiment, so this may be because the model is not is not thrown off by uninformative words."
   ]
  },
  {
   "cell_type": "markdown",
   "metadata": {
    "id": "nfwqOciAl2No"
   },
   "source": [
    "# (4) Discussion (max. 500 words). (5pts)\n",
    "\n",
    "> Based on your experiments, what are the effective features and techniques in sentiment analysis? What information do different features encode?\n",
    "Why is this important? What are the limitations of these features and techniques?\n"
   ]
  },
  {
   "cell_type": "markdown",
   "metadata": {},
   "source": [
    "token score : 0.674 \\\n",
    "magnitude token score : 0.6795 \\\n",
    "dynamic threshold: 0.648 \n",
    "\n",
    "NB: 0.845 \\\n",
    "NB skewed: 0.91 \\\n",
    "NB smooth: 0.855 \n",
    "\n",
    "crossvalid: \\\n",
    "NB smooth: avg 0.8260   var 0.0004 \\\n",
    "NB stemming: avg 0.77 \\\n",
    "NB bigrams: avg 0.829 \\\n",
    "NB bigrams+trigrams: avg 0.799 \n",
    "\n",
    "SVM: avg 0.8365 \\\n",
    "SVM POS: avg 0.8375 \\\n",
    "SVM important POS: avg 0.8430 "
   ]
  },
  {
   "cell_type": "markdown",
   "metadata": {
    "id": "ZYuse5WLmekZ"
   },
   "source": [
    "\n",
    "$\\textbf{Answer}$\n",
    "\n",
    "In this practical, we have implemented three different approaches to classify the sentiment of movie reviews. \n",
    "\n",
    "#### Lexicon-based approach\n",
    "In this approach we used a sentiment lexicon to classify the sentiment of each word in a document. The simplest model relied only on difference between amounts of the positive and negative words in document reaching accuracy of 0.674.\n",
    "We then incorporated the magnitude of the prioprolarity of the words, which increased the accuracy to 0.6795. We believe this is because the words that are more extreme in their prioprolarity carry more information on the overall sentiment of the review. \n",
    "We also tried to implement a dynamic threshold, which decreased the accuracy to 0.648. The reason for worse performance may be that we didnt perform any tuning on the hyperparameters in the dynamic threshold formula.\n",
    "It is important to note that in this implementation we only considered one possible pos tag per word, which may cause the model to misinterpret some words.\n",
    "\n",
    "#### Naive Bayes approach\n",
    "The baseline Naive Bayes classifier using a simple BoW representation of documents reached an accuracy of 0.845, which seems significantly better than the lexicon-based classifier. \n",
    "In this first implementation we skipped the words that only occur in training documents of one of the classes and not the other, to avoid zeroing out the probabilities. Omitting these words may, however, lead to a loss of some information.\n",
    "To tackle this differently we also implemented Laplace smoothing to be able to use all the words occuring in all the documents in our vocabulary, which increased the accuracy to 0.855. Using the 10-fold cross-vallidation, however, we only got average accuracy of 0.826.\n",
    "\n",
    "To disambiguate the different words possibly meaning the same thing we implemented stemming which decreased both the size of the vocabulary to 3/4 of the original size and the average accuracy to 0.77. This decrease may mean that we generalized the words too much, ignoring the sentiment that different variations may have carried.\n",
    "\n",
    "To take into account the order of the words or connections between them we also included bigrams and trigrams into the vocabulary, which significantly increased the vocabulary sizes while only bringing accuracy of 0.829 for unigrams+bigrams and 0.799 for unigrams+bigrams+trigrams.\n",
    "\n",
    "We also tried to train the unsmoothed classifier on a dataset that was biased towards one class, which increased the accuracy of similarly biased dataset to 0.91, but decresad the accuracy of inversely biased test set to 0.18. This shows the limited robustness of this approach because quality of the model is highly dependent on the training data.\n",
    "\n",
    "#### SVM approach\n",
    "In the SVM approach we were trying to take into account also the possible correlation between the features.\n",
    "Using the vectors of the word counts in the documents as inputs for the SVM we reached an average accuracy of 0.8365, which is slightly better than the Naive Bayes classifier. \n",
    "Further we also included the POS tags of the words into the features, which increased the accuracy to 0.8375. This may be because the model can better discriminte the meaning of indivudual same-looking words based on the POS tag. \n",
    "We also tried to discard the closed-class words from the data, which increased the accuracy to 0.8430. This may be because the model is not is not thrown off by uninformative words. \n"
   ]
  },
  {
   "cell_type": "markdown",
   "metadata": {
    "id": "iwaKwfWQhRk_"
   },
   "source": [
    "# Submission\n"
   ]
  },
  {
   "cell_type": "code",
   "execution_count": 49,
   "metadata": {
    "id": "aOUeaET5ijk-"
   },
   "outputs": [],
   "source": [
    "# Write your names and student numbers here:\n",
    "# Viktoria Pravdova #15741370\n",
    "# Tijs Wiegman      #13865617"
   ]
  },
  {
   "cell_type": "markdown",
   "metadata": {
    "id": "3A9K-H6Tii3X"
   },
   "source": [
    "**That's it!**\n",
    "\n",
    "- Check if you answered all questions fully and correctly.\n",
    "- Download your completed notebook using `File -> Download .ipynb`\n",
    "- Check if your answers are all included in the file you submit.\n",
    "- Submit your .ipynb file via *Canvas*. One submission per group."
   ]
  },
  {
   "cell_type": "code",
   "execution_count": null,
   "metadata": {
    "id": "YHslatYAKBrF"
   },
   "outputs": [],
   "source": []
  }
 ],
 "metadata": {
  "colab": {
   "provenance": []
  },
  "kernelspec": {
   "display_name": "nlp1",
   "language": "python",
   "name": "python3"
  },
  "language_info": {
   "codemirror_mode": {
    "name": "ipython",
    "version": 3
   },
   "file_extension": ".py",
   "mimetype": "text/x-python",
   "name": "python",
   "nbconvert_exporter": "python",
   "pygments_lexer": "ipython3",
   "version": "3.12.4"
  }
 },
 "nbformat": 4,
 "nbformat_minor": 0
}
