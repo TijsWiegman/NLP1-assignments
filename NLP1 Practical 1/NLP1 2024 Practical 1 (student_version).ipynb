{
 "cells": [
  {
   "cell_type": "markdown",
   "metadata": {
    "id": "1-aRiOgl4nHg"
   },
   "source": [
    "------\n",
    "**You cannot save any changes you make to this file, so please make sure to save it on your Google Colab drive or download it as a .ipynb file.**\n",
    "\n",
    "------\n",
    "\n"
   ]
  },
  {
   "cell_type": "markdown",
   "metadata": {
    "id": "lIZrAUx57vsM"
   },
   "source": [
    "Practical 1: Sentiment Detection in Movie Reviews\n",
    "========================================\n",
    "\n"
   ]
  },
  {
   "cell_type": "markdown",
   "metadata": {
    "id": "J4kXPMhyngZW"
   },
   "source": [
    "This practical concerns detecting sentiment in movie reviews. This is a typical NLP classification task.\n",
    "In [this file](https://gist.githubusercontent.com/bastings/d47423301cca214e3930061a5a75e177/raw/5113687382919e22b1f09ce71a8fecd1687a5760/reviews.json) (80MB) you will find 1000 positive and 1000 negative **movie reviews**.\n",
    "Each review is a **document** and consists of one or more sentences.\n",
    "\n",
    "To prepare yourself for this practical, you should\n",
    "have a look at a few of these texts to understand the difficulties of\n",
    "the task: how might one go about classifying the texts? You will write\n",
    "code that decides whether a movie review conveys positive or\n",
    "negative sentiment.\n",
    "\n",
    "Please make sure you have read the following paper:\n",
    "\n",
    ">   Bo Pang, Lillian Lee, and Shivakumar Vaithyanathan\n",
    "(2002).\n",
    "[Thumbs up? Sentiment Classification using Machine Learning\n",
    "Techniques](https://dl.acm.org/citation.cfm?id=1118704). EMNLP.\n",
    "\n",
    "Bo Pang et al. introduced the movie review sentiment\n",
    "classification task, and the above paper was one of the first papers on\n",
    "the topic. The first version of your sentiment classifier will do\n",
    "something similar to Pang et al.'s system. If you have questions about it,\n",
    "you should resolve you doubts as soon as possible with your TA.\n"
   ]
  },
  {
   "cell_type": "markdown",
   "metadata": {
    "id": "cb7errgRASzZ"
   },
   "source": [
    "**Advice**\n",
    "\n",
    "Please read through the entire practical and familiarise\n",
    "yourself with all requirements before you start coding or otherwise\n",
    "solving the tasks. Writing clean and concise code can make the difference\n",
    "between solving the assignment in a matter of hours, and taking days to\n",
    "run all experiments.\n",
    "\n",
    "\n",
    "**Implementation**\n",
    "\n",
    "While we inserted code cells to indicate where you should implement your own code, please feel free to add/remove code blocks where you see fit (but make sure that the general structure of the assignment is preserved). Also, please keep in mind that it is always good practice to structure your code properly, e.g., by implementing separate classes and functions that can be reused. **Make sure you run all your code before submitting the notebook, and do not leave unnecessary print statements / cells in your notebook that are not intended for the grader.**\n",
    "\n",
    "## Environment\n",
    "\n",
    "All code should be written in **Python 3**.\n",
    "This is the default in Google Colab."
   ]
  },
  {
   "cell_type": "code",
   "execution_count": 21,
   "metadata": {
    "colab": {
     "base_uri": "https://localhost:8080/"
    },
    "executionInfo": {
     "elapsed": 21,
     "status": "ok",
     "timestamp": 1698047665308,
     "user": {
      "displayName": "XUE LI",
      "userId": "02386889076941396043"
     },
     "user_tz": -120
    },
    "id": "SaZnxptMJiD7",
    "outputId": "18c3a760-90b6-4d90-e507-aba57841ae23"
   },
   "outputs": [
    {
     "name": "stdout",
     "output_type": "stream",
     "text": [
      "Python 3.12.4\n"
     ]
    }
   ],
   "source": [
    "!python --version"
   ]
  },
  {
   "cell_type": "markdown",
   "metadata": {
    "id": "BYZyIF7lJnGn"
   },
   "source": [
    "If you want to run code on your own computer, then download this notebook through `File -> Download .ipynb`.\n",
    "The easiest way to\n",
    "install Python is through downloading\n",
    "[Anaconda](https://www.anaconda.com/download).\n",
    "After installation, you can start the notebook by typing `jupyter notebook filename.ipynb`.\n",
    "You can also use an IDE\n",
    "such as [PyCharm](https://www.jetbrains.com/pycharm/download/) to make\n",
    "coding and debugging easier. It is good practice to create a [virtual\n",
    "environment](https://docs.python.org/3/tutorial/venv.html) for this\n",
    "project, so that any Python packages don’t interfere with other\n",
    "projects.\n",
    "\n",
    "\n",
    "**Learning Python 3**\n",
    "\n",
    "If you are new to Python 3, you may want to check out a few of these resources:\n",
    "- https://learnxinyminutes.com/docs/python3/\n",
    "- https://www.learnpython.org/\n",
    "- https://docs.python.org/3/tutorial/"
   ]
  },
  {
   "cell_type": "code",
   "execution_count": 22,
   "metadata": {
    "id": "hok-BFu9lGoK"
   },
   "outputs": [],
   "source": [
    "import math\n",
    "import os\n",
    "import sys\n",
    "from subprocess import call\n",
    "from nltk import FreqDist\n",
    "from nltk.util import ngrams\n",
    "from nltk.stem.porter import PorterStemmer\n",
    "import sklearn as sk\n",
    "# from google.colab import drive\n",
    "import pickle\n",
    "import json\n",
    "from collections import Counter\n",
    "import requests\n",
    "import matplotlib.pyplot as plt\n",
    "import numpy as np"
   ]
  },
  {
   "cell_type": "markdown",
   "metadata": {
    "id": "bXWyGHwE-ieQ"
   },
   "source": [
    "## Loading the data\n",
    "\n",
    "**Download the sentiment lexicon and the movie reviews dataset.**"
   ]
  },
  {
   "cell_type": "code",
   "execution_count": 23,
   "metadata": {
    "colab": {
     "base_uri": "https://localhost:8080/"
    },
    "executionInfo": {
     "elapsed": 1808,
     "status": "ok",
     "timestamp": 1698047686292,
     "user": {
      "displayName": "XUE LI",
      "userId": "02386889076941396043"
     },
     "user_tz": -120
    },
    "id": "lm-rakqtlMOT",
    "outputId": "1b6b1152-50b7-4161-aab2-03da318d6981"
   },
   "outputs": [
    {
     "name": "stdout",
     "output_type": "stream",
     "text": [
      "--2024-11-04 21:44:26--  https://gist.githubusercontent.com/bastings/d6f99dcb6c82231b94b013031356ba05/raw/f80a0281eba8621b122012c89c8b5e2200b39fd6/sent_lexicon\n",
      "Resolving gist.githubusercontent.com (gist.githubusercontent.com)... 185.199.110.133, 185.199.108.133, 185.199.111.133, ...\n",
      "Connecting to gist.githubusercontent.com (gist.githubusercontent.com)|185.199.110.133|:443... connected.\n",
      "HTTP request sent, awaiting response... 200 OK\n",
      "Length: 662577 (647K) [text/plain]\n",
      "Saving to: ‘sent_lexicon.3’\n",
      "\n",
      "sent_lexicon.3      100%[===================>] 647.05K  --.-KB/s    in 0.07s   \n",
      "\n",
      "2024-11-04 21:44:27 (8.53 MB/s) - ‘sent_lexicon.3’ saved [662577/662577]\n",
      "\n",
      "--2024-11-04 21:44:27--  https://gist.githubusercontent.com/bastings/d47423301cca214e3930061a5a75e177/raw/5113687382919e22b1f09ce71a8fecd1687a5760/reviews.json\n",
      "Resolving gist.githubusercontent.com (gist.githubusercontent.com)... 185.199.110.133, 185.199.109.133, 185.199.108.133, ...\n",
      "Connecting to gist.githubusercontent.com (gist.githubusercontent.com)|185.199.110.133|:443... connected.\n",
      "HTTP request sent, awaiting response... 200 OK\n",
      "Length: 83503869 (80M) [text/plain]\n",
      "Saving to: ‘reviews.json.3’\n",
      "\n",
      "reviews.json.3      100%[===================>]  79.63M  10.5MB/s    in 7.5s    \n",
      "\n",
      "2024-11-04 21:44:35 (10.6 MB/s) - ‘reviews.json.3’ saved [83503869/83503869]\n",
      "\n"
     ]
    }
   ],
   "source": [
    "# download sentiment lexicon\n",
    "!wget https://gist.githubusercontent.com/bastings/d6f99dcb6c82231b94b013031356ba05/raw/f80a0281eba8621b122012c89c8b5e2200b39fd6/sent_lexicon\n",
    "# download review data\n",
    "!wget https://gist.githubusercontent.com/bastings/d47423301cca214e3930061a5a75e177/raw/5113687382919e22b1f09ce71a8fecd1687a5760/reviews.json"
   ]
  },
  {
   "cell_type": "markdown",
   "metadata": {
    "id": "AkPwuHp5LSuQ"
   },
   "source": [
    "**Load the movie reviews.**\n",
    "\n",
    "Each word in a review comes with its part-of-speech tag. For documentation on POS-tags, see https://catalog.ldc.upenn.edu/docs/LDC99T42/tagguid1.pdf.\n"
   ]
  },
  {
   "cell_type": "code",
   "execution_count": 24,
   "metadata": {
    "colab": {
     "base_uri": "https://localhost:8080/"
    },
    "executionInfo": {
     "elapsed": 3917,
     "status": "ok",
     "timestamp": 1698047715771,
     "user": {
      "displayName": "XUE LI",
      "userId": "02386889076941396043"
     },
     "user_tz": -120
    },
    "id": "careEKj-mRpl",
    "outputId": "a6f3c385-5106-49ec-be89-4aff971eb05b"
   },
   "outputs": [
    {
     "name": "stdout",
     "output_type": "stream",
     "text": [
      "Total number of reviews: 2000 \n",
      "\n",
      "0 NEG 29\n",
      "Two/CD teen/JJ couples/NNS go/VBP to/TO a/DT church/NN party/NN ,/, drink/NN and/CC then/RB drive/NN ./.\n",
      "1 NEG 11\n",
      "Damn/JJ that/IN Y2K/CD bug/NN ./.\n",
      "2 NEG 24\n",
      "It/PRP is/VBZ movies/NNS like/IN these/DT that/WDT make/VBP a/DT jaded/JJ movie/NN viewer/NN thankful/JJ for/IN the/DT invention/NN of/IN the/DT Timex/NNP IndiGlo/NNP watch/NN ./.\n",
      "3 NEG 19\n",
      "QUEST/NN FOR/IN CAMELOT/NNP ``/`` Quest/NNP for/IN Camelot/NNP ''/'' is/VBZ Warner/NNP Bros./NNP '/POS first/JJ feature-length/JJ ,/, fully-animated/JJ attempt/NN to/TO steal/VB clout/NN from/IN Disney/NNP 's/POS cartoon/NN empire/NN ,/, but/CC the/DT mouse/NN has/VBZ no/DT reason/NN to/TO be/VB worried/VBN ./.\n",
      "4 NEG 38\n",
      "Synopsis/NNPS :/: A/DT mentally/RB unstable/JJ man/NN undergoing/VBG psychotherapy/NN saves/VBZ a/DT boy/NN from/IN a/DT potentially/RB fatal/JJ accident/NN and/CC then/RB falls/VBZ in/IN love/NN with/IN the/DT boy/NN 's/POS mother/NN ,/, a/DT fledgling/NN restauranteur/NN ./.\n",
      "\n",
      "Number of word types: 47743\n",
      "Number of word tokens: 1512359\n",
      "\n",
      "Most common tokens:\n",
      "         , :    77842\n",
      "       the :    75948\n",
      "         . :    59027\n",
      "         a :    37583\n",
      "       and :    35235\n",
      "        of :    33864\n",
      "        to :    31601\n",
      "        is :    25972\n",
      "        in :    21563\n",
      "        's :    18043\n",
      "        it :    15904\n",
      "      that :    15820\n",
      "     -rrb- :    11768\n",
      "     -lrb- :    11670\n",
      "        as :    11312\n",
      "      with :    10739\n",
      "       for :     9816\n",
      "       his :     9542\n",
      "      this :     9497\n",
      "      film :     9404\n"
     ]
    }
   ],
   "source": [
    "# file structure:\n",
    "# [\n",
    "#  {\"cv\": integer, \"sentiment\": str, \"content\": list}\n",
    "#  {\"cv\": integer, \"sentiment\": str, \"content\": list}\n",
    "#   ..\n",
    "# ]\n",
    "# where `content` is a list of sentences,\n",
    "# with a sentence being a list of (token, pos_tag) pairs.\n",
    "\n",
    "\n",
    "with open(\"reviews.json\", mode=\"r\", encoding=\"utf-8\") as f:\n",
    "  reviews = json.load(f)\n",
    "\n",
    "print(\"Total number of reviews:\", len(reviews), '\\n')\n",
    "\n",
    "def print_sentence_with_pos(s):\n",
    "  print(\" \".join(\"%s/%s\" % (token, pos_tag) for token, pos_tag in s))\n",
    "\n",
    "for i, r in enumerate(reviews):\n",
    "  print(r[\"cv\"], r[\"sentiment\"], len(r[\"content\"]))  # cv, sentiment, num sents\n",
    "  print_sentence_with_pos(r[\"content\"][0])\n",
    "  if i == 4:\n",
    "    break\n",
    "\n",
    "c = Counter()\n",
    "for review in reviews:\n",
    "  for sentence in review[\"content\"]:\n",
    "    for token, pos_tag in sentence:\n",
    "      c[token.lower()] += 1\n",
    "\n",
    "print(\"\\nNumber of word types:\", len(c))\n",
    "print(\"Number of word tokens:\", sum(c.values()))\n",
    "\n",
    "print(\"\\nMost common tokens:\")\n",
    "for token, count in c.most_common(20):\n",
    "  print(\"%10s : %8d\" % (token, count))\n"
   ]
  },
  {
   "cell_type": "markdown",
   "metadata": {
    "id": "E6PWaEoh8B34"
   },
   "source": [
    "#(1) Lexicon-based approach (3.5pts)\n",
    "\n"
   ]
  },
  {
   "cell_type": "markdown",
   "metadata": {
    "id": "JsTSMb6ma4E8"
   },
   "source": [
    "A traditional approach to classify documents according to their sentiment is the lexicon-based approach. To implement this approach, you need a **sentiment lexicon**, i.e., a list of words annotated with a sentiment label (e.g., positive and negative, or a score from 0 to 5).\n",
    "\n",
    "In this practical, you will use the sentiment\n",
    "lexicon released by Wilson et al. (2005).\n",
    "\n",
    "> Theresa Wilson, Janyce Wiebe, and Paul Hoffmann\n",
    "(2005). [Recognizing Contextual Polarity in Phrase-Level Sentiment\n",
    "Analysis](http://www.aclweb.org/anthology/H/H05/H05-1044.pdf). HLT-EMNLP.\n",
    "\n",
    "Pay attention to all the information available in the sentiment lexicon. The field *word1* contains the lemma, *priorpolarity* contains the sentiment label (positive, negative, both, or neutral), *type* gives you the magnitude of the word's sentiment (strong or weak), and *pos1* gives you the part-of-speech tag of the lemma. Some lemmas can have multiple part-of-speech tags and thus multiple entries in the lexicon. The path of the lexicon file is `\"sent_lexicon\"`.\n"
   ]
  },
  {
   "cell_type": "code",
   "execution_count": 25,
   "metadata": {
    "colab": {
     "base_uri": "https://localhost:8080/"
    },
    "executionInfo": {
     "elapsed": 220,
     "status": "ok",
     "timestamp": 1698047764860,
     "user": {
      "displayName": "XUE LI",
      "userId": "02386889076941396043"
     },
     "user_tz": -120
    },
    "id": "Ogq0Eq2hQglh",
    "outputId": "1c26526d-399e-4558-a1b2-2fa771648f09"
   },
   "outputs": [
    {
     "name": "stdout",
     "output_type": "stream",
     "text": [
      "type=weaksubj len=1 word1=abandoned pos1=adj stemmed1=n priorpolarity=negative\n",
      "type=weaksubj len=1 word1=abandonment pos1=noun stemmed1=n priorpolarity=negative\n",
      "type=weaksubj len=1 word1=abandon pos1=verb stemmed1=y priorpolarity=negative\n",
      "type=strongsubj len=1 word1=abase pos1=verb stemmed1=y priorpolarity=negative\n",
      "type=strongsubj len=1 word1=abasement pos1=anypos stemmed1=y priorpolarity=negative\n"
     ]
    }
   ],
   "source": [
    "with open(\"sent_lexicon\", mode=\"r\", encoding=\"utf-8\") as f:\n",
    "  line_cnt = 0\n",
    "  for line in f:\n",
    "    print(line.strip())\n",
    "    line_cnt += 1\n",
    "    if line_cnt > 4:\n",
    "      break"
   ]
  },
  {
   "cell_type": "markdown",
   "metadata": {
    "id": "Mml4nOtIUBhn"
   },
   "source": [
    "Lexica such as this can be used to solve\n",
    "the classification task without using Machine Learning. For example, one might look up every word $w_1 ... w_n$ in a document, and compute a **binary score**\n",
    "$S_{binary}$ by counting how many words have a positive or a\n",
    "negative label in the sentiment lexicon $SLex$.\n",
    "\n",
    "$$S_{binary}(w_1 w_2 ... w_n) = \\sum_{i = 1}^{n}\\text{sign}(SLex\\big[w_i\\big])$$\n",
    "\n",
    "where $\\text{sign}(SLex\\big[w_i\\big])$ refers to the polarity of $w_i$.\n",
    "\n",
    "**Threshold.** On average, there are more positive than negative words per review (~7.13 more positive than negative per review) to take this bias into account you should use a threshold of **8** (roughly the bias itself) to make it harder to classify as positive.\n",
    "\n",
    "$$\n",
    "\\text{classify}(S_{binary}(w_1 w_2 ... w_n)) = \\bigg\\{\\begin{array}{ll}\n",
    "        \\text{positive} & \\text{if } S_{binary}(w_1w_2...w_n) > threshold\\\\\n",
    "        \\text{negative} & \\text{otherwise}\n",
    "        \\end{array}\n",
    "$$\n"
   ]
  },
  {
   "cell_type": "markdown",
   "metadata": {
    "id": "tOFnMvbeeZrc"
   },
   "source": [
    "#### (Q1.1) Implement this approach and report its classification accuracy. (1 pt)"
   ]
  },
  {
   "cell_type": "code",
   "execution_count": 26,
   "metadata": {
    "id": "ED2aTEYutW1-"
   },
   "outputs": [],
   "source": [
    "# YOUR CODE HERE\n",
    "# load sent lex into dic\n",
    "sent_lex = {}\n",
    "with open(\"sent_lexicon\", mode=\"r\", encoding=\"utf-8\") as f:\n",
    "  for line in f:\n",
    "    typ, Len, Word, pos1, stem, prior = line.strip().split(\" \")\n",
    "    word = Word.split('=')[1]\n",
    "\n",
    "    # sent = 1 if 'postive', -1 if 'negative', 0 if 'neutral' or 'both'\n",
    "    if prior.split('=')[1] =='positive':\n",
    "        prior = 1\n",
    "    elif prior.split('=')[1] =='negative':\n",
    "        prior = -1\n",
    "    else:\n",
    "        prior = 0\n",
    "    sent_lex[word] = prior\n",
    "\n",
    "def binary_score(review, sent_lex, threshold=8):\n",
    "    score = 0\n",
    "    for sentence in review[\"content\"]:\n",
    "        for token, pos_tag in sentence:\n",
    "            if token.lower() in sent_lex:\n",
    "                score += sent_lex[token.lower()]\n",
    "\n",
    "    return 1 if score >= threshold else 0\n",
    "\n",
    "def accuracy1(results, inputs):\n",
    "    TPTN = 0\n",
    "    TPTNFPFN = len(results)\n",
    "\n",
    "    for i, r in enumerate(inputs):\n",
    "        bool1 = r[\"sentiment\"] == 'NEG' and results[i] == 0\n",
    "        bool2 = r[\"sentiment\"] == 'POS' and results[i] == 1\n",
    "        if bool1 or bool2:\n",
    "            TPTN += 1\n",
    "\n",
    "    accuracy = TPTN / TPTNFPFN\n",
    "    print(\"Accuracy:\", accuracy)\n",
    "\n",
    "def accuracy2(results, inputs):\n",
    "    TPTN = 0\n",
    "    TPTNFPFN = len(results)\n",
    "\n",
    "    for i, r in enumerate(inputs):\n",
    "        if r[\"sentiment\"] == results[i]:\n",
    "            TPTN += 1\n",
    "\n",
    "    accuracy = TPTN / TPTNFPFN\n",
    "    print(\"Accuracy:\", accuracy)\n",
    "    return accuracy"
   ]
  },
  {
   "cell_type": "code",
   "execution_count": 27,
   "metadata": {
    "id": "iy528EUTphz5"
   },
   "outputs": [
    {
     "name": "stdout",
     "output_type": "stream",
     "text": [
      "Accuracy: 0.679\n"
     ]
    }
   ],
   "source": [
    "# token_results should be a list of binary indicators; for example [1, 0, 1, ...]\n",
    "# where 1 indicates a correct classification and 0 an incorrect classification.\n",
    "token_results = list(map(lambda r: binary_score(r,sent_lex), reviews))\n",
    "\n",
    "accuracy1(token_results,reviews)"
   ]
  },
  {
   "cell_type": "markdown",
   "metadata": {
    "id": "Twox0s_3eS0V"
   },
   "source": [
    "As the sentiment lexicon also has information about the **magnitude** of\n",
    "sentiment (e.g., *“excellent\"* has the same sentiment _polarity_ as *“good\"* but it has a higher magnitude), we can take a more fine-grained approach by adding up all\n",
    "sentiment scores, and deciding the polarity of the movie review using\n",
    "the sign of the weighted score $S_{weighted}$.\n",
    "\n",
    "$$S_{weighted}(w_1w_2...w_n) = \\sum_{i = 1}^{n}SLex\\big[w_i\\big]$$\n",
    "\n",
    "\n",
    "Make sure you define an appropriate threshold for this approach.\n",
    "\n",
    "#### (Q1.2) Now incorporate magnitude information and report the classification accuracy. Don't forget to use the threshold. (1pt)"
   ]
  },
  {
   "cell_type": "code",
   "execution_count": 28,
   "metadata": {
    "id": "qG3hUDnPtkhS"
   },
   "outputs": [],
   "source": [
    "# YOUR CODE HERE\n",
    "\n",
    "# YOUR CODE HERE\n",
    "# l9oad sent lex into dic\n",
    "magnitude_sent_lex = {}\n",
    "with open(\"sent_lexicon\", mode=\"r\", encoding=\"utf-8\") as f:\n",
    "  for line in f:\n",
    "    typ, Len, Word, pos1, stem, prior = line.strip().split(\" \")\n",
    "    # make dic out of the valuse, split by = and take the second part, the key should be Word\n",
    "    # dic_per_word = dict([x.split('=') for x in line.strip().split(\" \")])\n",
    "\n",
    "    word = Word.split('=')[1]\n",
    "    magnitude = 2 if typ.split('=')[1] == 'strongsubj' else 1\n",
    "    \n",
    "    # sent = 1 if 'postive', -1 if 'negative', 0 if 'neutral' or 'both'\n",
    "    if prior.split('=')[1] =='positive':\n",
    "        prior = 1\n",
    "    elif prior.split('=')[1] =='negative':\n",
    "        prior = -1\n",
    "    else:\n",
    "        prior = 0\n",
    "    magnitude_sent_lex[word] = prior*magnitude"
   ]
  },
  {
   "cell_type": "code",
   "execution_count": 29,
   "metadata": {
    "colab": {
     "base_uri": "https://localhost:8080/",
     "height": 141
    },
    "executionInfo": {
     "elapsed": 221,
     "status": "error",
     "timestamp": 1698047779696,
     "user": {
      "displayName": "XUE LI",
      "userId": "02386889076941396043"
     },
     "user_tz": -120
    },
    "id": "9vVk7CvDpyka",
    "outputId": "fb9a09d2-b878-416f-d72c-1c651099c9ed"
   },
   "outputs": [
    {
     "name": "stdout",
     "output_type": "stream",
     "text": [
      "Accuracy: 0.683\n"
     ]
    }
   ],
   "source": [
    "# madnitude_results should be a list of binary indicators; for example [1, 0, 1, ...]\n",
    "# where 1 indicates a correct classification and 0 an incorrect classification.\n",
    "magnitude_results = list(map(lambda r: binary_score(r,magnitude_sent_lex), reviews))\n",
    "\n",
    "accuracy1(magnitude_results,reviews)"
   ]
  },
  {
   "cell_type": "markdown",
   "metadata": {
    "id": "h9SHoGPfsAHV"
   },
   "source": [
    "#### (Q.1.3) Make a barplot of the two results (0.5pt)"
   ]
  },
  {
   "cell_type": "code",
   "execution_count": 30,
   "metadata": {
    "id": "8LgBcYcXsEk3"
   },
   "outputs": [],
   "source": [
    "# YOUR CODE HERE"
   ]
  },
  {
   "cell_type": "markdown",
   "metadata": {
    "id": "sNhS8OCVxMHd"
   },
   "source": [
    "#### (Q1.4) A better threshold (1pt)\n",
    "Above we have defined a threshold to account for an inherent bias in the dataset: there are more positive than negative words per review.\n",
    "However, that threshold does not take into account *document length*. Explain why this is a problem and implement an alternative way to compute the threshold."
   ]
  },
  {
   "cell_type": "markdown",
   "metadata": {
    "id": "xo7gk1I-omLI"
   },
   "source": [
    "$\\textbf{Answer}$\n",
    "\n",
    "We can solve this by using dynamic thresholds, which changes per document based on the documents length. We suggest using a value proportional to one over the document length, where the proportionality constant is a hyperparameter to be set during training.\n",
    "\n",
    "To get more specfic, we can think of a positive review as having a rate of positive words $\\gamma$, so for $n$ words, there would be $\\gamma n$ positive words. Then, we can think of the binary score $S$ as a sum over positive words of the entire review, so $S \\propto \\gamma L$. We want to threshold based on the rate of postive words, not on the total number of positive words. Without dynamic thresholding, we use \n",
    "$$S \\geq \\alpha$$\n",
    "With dynamic threshold, we get\n",
    "$$\\gamma \\propto \\frac SL \\geq \\frac \\alpha L$$\n",
    "Here, $\\alpha$ is a scale parameter which we will note tune but set to 1."
   ]
  },
  {
   "cell_type": "code",
   "execution_count": 31,
   "metadata": {
    "id": "Dwt0B8h8aKjr"
   },
   "outputs": [
    {
     "name": "stdout",
     "output_type": "stream",
     "text": [
      "Accuracy: 0.6485\n"
     ]
    }
   ],
   "source": [
    "# YOUR CODE HERE\n",
    "# madnitude_results should be a list of binary indicators; for example [1, 0, 1, ...]\n",
    "# where 1 indicates a correct classification and 0 an incorrect classification.\n",
    "\n",
    "magnitude_results= []\n",
    "for r in reviews:\n",
    "    doc_len = sum([len(s) for s in r[\"content\"]])\n",
    "    dynamic_threshold = 1/doc_len\n",
    "    magnitude_results.append(binary_score(r,magnitude_sent_lex,dynamic_threshold))\n",
    "\n",
    "accuracy1(magnitude_results,reviews)"
   ]
  },
  {
   "cell_type": "markdown",
   "metadata": {
    "id": "LibV4nR89BXb"
   },
   "source": [
    "# (2) Naive Bayes (9.5pts)"
   ]
  },
  {
   "cell_type": "markdown",
   "metadata": {
    "id": "fnF9adQnuwia"
   },
   "source": [
    "\n",
    "Your second task is to program a simple Machine Learning approach that operates\n",
    "on a simple Bag-of-Words (BoW) representation of the text data, as\n",
    "described by Pang et al. (2002). In this approach, the only features we\n",
    "will consider are the words in the text themselves, without bringing in\n",
    "external sources of information. The BoW model is a popular way of\n",
    "representing texts as vectors, making it\n",
    "easy to apply classical Machine Learning algorithms on NLP tasks.\n",
    "However, the BoW representation is also very crude, since it discards\n",
    "all information related to word order and grammatical structure in the\n",
    "original text—as the name suggests.\n",
    "\n",
    "## Writing your own classifier (4pts)\n",
    "\n",
    "Write your own code to implement the Naive Bayes (NB) classifier. As\n",
    "a reminder, the Naive Bayes classifier works according to the following\n",
    "equation:\n",
    "$$\\hat{c} = \\operatorname*{arg\\,max}_{c \\in C} P(c|\\bar{f}) = \\operatorname*{arg\\,max}_{c \\in C} P(c)\\prod^n_{i=1} P(f_i|c)$$\n",
    "where $C = \\{ \\text{POS}, \\text{NEG} \\}$ is the set of possible classes,\n",
    "$\\hat{c} \\in C$ is the most probable class, and $\\bar{f}$ is the feature\n",
    "vector. Remember that we use the log of these probabilities when making\n",
    "a prediction:\n",
    "$$\\hat{c} = \\operatorname*{arg\\,max}_{c \\in C} \\Big\\{\\log P(c) + \\sum^n_{i=1} \\log P(f_i|c)\\Big\\}$$\n",
    "\n",
    "You can find more details about Naive Bayes in [Jurafsky &\n",
    "Martin](https://web.stanford.edu/~jurafsky/slp3/). You can also look at\n",
    "this helpful\n",
    "[pseudo-code](https://nlp.stanford.edu/IR-book/html/htmledition/naive-bayes-text-classification-1.html).\n",
    "\n",
    "*Note: this section and the next aim to put you in a position to replicate\n",
    "    Pang et al.'s Naive Bayes results. However, your numerical results\n",
    "    will differ from theirs, as they used different data.*\n",
    "\n",
    "**You must write the Naive Bayes training and prediction code from\n",
    "scratch.** You will not be given credit for using off-the-shelf Machine\n",
    "Learning libraries.\n",
    "\n",
    "The data contains the text of the reviews, where each document consists\n",
    "of the sentences in the review, the sentiment of the review and an index\n",
    "(cv) that you will later use for cross-validation. The\n",
    "text has already been tokenised and POS-tagged for you. Your algorithm\n",
    "should read in the text, **lowercase it**, store the words and their\n",
    "frequencies in an appropriate data structure that allows for easy\n",
    "computation of the probabilities used in the Naive Bayes algorithm, and\n",
    "then make predictions for new instances.\n"
   ]
  },
  {
   "cell_type": "markdown",
   "metadata": {
    "id": "vEpyQSBSkb33"
   },
   "source": [
    "#### (Q2.1) Unseen words (1pt)\n",
    "The presence of words in the test dataset that\n",
    "have not been seen during training can cause probabilities in the Naive Bayes classifier to equal $0$.\n",
    "These can be words which are unseen in both positive and negative training reviews (case 1), but also words which are seen in reviews _of only one sentiment class_ in the training dataset (case 2). In both cases, **you should skip these words for both classes at test time**.  What would be the problem instead with skipping words only for one class in case 2?"
   ]
  },
  {
   "cell_type": "markdown",
   "metadata": {
    "id": "BanFiYYnoxDW"
   },
   "source": [
    "$\\textbf{Answer}$\n",
    "\n",
    "For a test document, we score each class based on the sum of conditional likelihoods of words. For a word that is unseen in one class but seen in the other, if we skip that word for one class at test time, effectively we set the conditional likelihood of that word to zero for that class while we do consider its contibution to the score for the other class."
   ]
  },
  {
   "cell_type": "markdown",
   "metadata": {
    "id": "gsZRhaI3WvzC"
   },
   "source": [
    "#### (Q2.2) Train your classifier on (positive and negative) reviews with cv-value 000-899, and test it on the remaining (positive and negative) reviews cv900–cv999.  Report results using classification accuracy as your evaluation metric. Your  features are the word vocabulary. The value of a feature is the count of that feature (word) in the document. (2pts)\n"
   ]
  },
  {
   "cell_type": "code",
   "execution_count": 32,
   "metadata": {
    "id": "G7zaJYGFvIJ3"
   },
   "outputs": [],
   "source": [
    "# YOUR CODE HERE\n",
    "def train_NB(C, D):\n",
    "    \n",
    "    Ndoc = len(D)\n",
    "    log_prior = {}\n",
    "    log_likelihood = {}\n",
    "    big_doc = {}\n",
    "\n",
    "    # Make vocab for all documents\n",
    "    V_pos = set()\n",
    "    V_neg = set()\n",
    "    for doc in D:\n",
    "        if doc['sentiment'] == 'POS':\n",
    "            for s in doc[\"content\"]:\n",
    "                for w, _ in s:\n",
    "                    V_pos.add(w)\n",
    "        if doc['sentiment'] == 'NEG':\n",
    "            for s in doc[\"content\"]:\n",
    "                for w, _ in s:\n",
    "                    V_neg.add(w)\n",
    "    \n",
    "    V = V_pos.union(V_neg)\n",
    "\n",
    "    # Calculate P(w|c)\n",
    "    for c in C:\n",
    "        big_doc[c] = [doc for doc in D if doc[\"sentiment\"] == c]\n",
    "        Nc = len(big_doc[c])\n",
    "        log_prior[c] = np.log(Nc/Ndoc) if Nc > 0 else -np.inf\n",
    "        word_counts = Counter()\n",
    "        # Count occurences of each w in big_doc[c]\n",
    "        for doc in big_doc[c]:\n",
    "            for sentence in doc['content']:\n",
    "                for word, pos_tag in sentence:\n",
    "                    word_counts[word.lower()] += 1\n",
    "        \n",
    "        sum1 = sum(word_counts[v] for v in V)\n",
    "\n",
    "        for w in V:\n",
    "            log_likelihood[w,c] = np.log(word_counts[w]) - np.log(sum1) if word_counts[w] > 0 else -np.inf                 # no smoothing yet?\n",
    "    \n",
    "    return log_prior,log_likelihood,V_pos,V_neg\n",
    "        \n",
    "      \n",
    "def test_NB(testdoc,log_prior,log_likelihood,C,V_pos,V_neg):\n",
    "    V_int = V_pos & V_neg\n",
    "    sum = {}\n",
    "    for c in C:\n",
    "        sum[c] = log_prior[c]\n",
    "        for sentence in testdoc['content']:\n",
    "            for word, pos_tag in sentence:\n",
    "                if word.lower() in V_int:\n",
    "                    sum[c] += log_likelihood.get((word.lower(), c), 0)\n",
    "    return max(sum, key=sum.get)\n",
    "\n"
   ]
  },
  {
   "cell_type": "code",
   "execution_count": 33,
   "metadata": {},
   "outputs": [
    {
     "name": "stdout",
     "output_type": "stream",
     "text": [
      "NEG NEG NEG NEG NEG NEG NEG NEG NEG NEG NEG NEG NEG NEG NEG NEG NEG NEG NEG NEG NEG NEG NEG NEG NEG NEG NEG NEG NEG NEG NEG NEG NEG NEG NEG NEG NEG NEG NEG NEG NEG NEG NEG NEG NEG NEG NEG NEG NEG NEG NEG NEG NEG NEG NEG NEG NEG NEG NEG NEG NEG NEG NEG NEG NEG NEG NEG NEG NEG NEG NEG NEG NEG NEG NEG NEG NEG NEG NEG NEG NEG NEG NEG NEG NEG NEG NEG NEG NEG NEG NEG NEG NEG NEG NEG NEG NEG NEG NEG NEG NEG NEG NEG NEG NEG NEG NEG NEG NEG NEG NEG NEG NEG NEG NEG NEG NEG NEG NEG NEG NEG NEG NEG NEG NEG NEG NEG NEG NEG NEG NEG NEG NEG NEG NEG NEG NEG NEG NEG NEG NEG NEG NEG NEG NEG NEG NEG NEG NEG NEG NEG NEG NEG NEG NEG NEG NEG NEG NEG NEG NEG NEG NEG NEG NEG NEG NEG NEG NEG NEG NEG NEG NEG NEG NEG NEG NEG NEG NEG NEG NEG NEG NEG NEG NEG NEG NEG NEG NEG NEG NEG NEG NEG NEG NEG NEG NEG NEG NEG NEG NEG NEG NEG NEG NEG NEG NEG NEG NEG NEG NEG NEG NEG NEG NEG NEG NEG NEG NEG NEG NEG NEG NEG NEG NEG NEG NEG NEG NEG NEG NEG NEG NEG NEG NEG NEG NEG NEG NEG NEG NEG NEG NEG NEG NEG NEG NEG NEG NEG NEG NEG NEG NEG NEG NEG NEG NEG NEG NEG NEG NEG NEG NEG NEG NEG NEG NEG NEG NEG NEG NEG NEG NEG NEG NEG NEG NEG NEG NEG NEG NEG NEG NEG NEG NEG NEG NEG NEG NEG NEG NEG NEG NEG NEG NEG NEG NEG NEG NEG NEG NEG NEG NEG NEG NEG NEG NEG NEG NEG NEG NEG NEG NEG NEG NEG NEG NEG NEG NEG NEG NEG NEG NEG NEG NEG NEG NEG NEG NEG NEG NEG NEG NEG NEG NEG NEG NEG NEG NEG NEG NEG NEG NEG NEG NEG NEG NEG NEG NEG NEG NEG NEG NEG NEG NEG NEG NEG NEG NEG NEG NEG NEG NEG NEG NEG NEG NEG NEG NEG NEG NEG NEG NEG NEG NEG NEG NEG NEG NEG NEG NEG NEG NEG NEG NEG NEG NEG NEG NEG NEG NEG NEG NEG NEG NEG NEG NEG NEG NEG NEG NEG NEG NEG NEG NEG NEG NEG NEG NEG NEG NEG NEG NEG NEG NEG NEG NEG NEG NEG NEG NEG NEG NEG NEG NEG NEG NEG NEG NEG NEG NEG NEG NEG NEG NEG NEG NEG NEG NEG NEG NEG NEG NEG NEG NEG NEG NEG NEG NEG NEG NEG NEG NEG NEG NEG NEG NEG NEG NEG NEG NEG NEG NEG NEG NEG NEG NEG NEG NEG NEG NEG NEG NEG NEG NEG NEG NEG NEG NEG NEG NEG NEG NEG NEG NEG NEG NEG NEG NEG NEG NEG NEG NEG NEG NEG NEG NEG NEG NEG NEG NEG NEG NEG NEG NEG NEG NEG NEG NEG NEG NEG NEG NEG NEG NEG NEG NEG NEG NEG NEG NEG NEG NEG NEG NEG NEG NEG NEG NEG NEG NEG NEG NEG NEG NEG NEG NEG NEG NEG NEG NEG NEG NEG NEG NEG NEG NEG NEG NEG NEG NEG NEG NEG NEG NEG NEG NEG NEG NEG NEG NEG NEG NEG NEG NEG NEG NEG NEG NEG NEG NEG NEG NEG NEG NEG NEG NEG NEG NEG NEG NEG NEG NEG NEG NEG NEG NEG NEG NEG NEG NEG NEG NEG NEG NEG NEG NEG NEG NEG NEG NEG NEG NEG NEG NEG NEG NEG NEG NEG NEG NEG NEG NEG NEG NEG NEG NEG NEG NEG NEG NEG NEG NEG NEG NEG NEG NEG NEG NEG NEG NEG NEG NEG NEG NEG NEG NEG NEG NEG NEG NEG NEG NEG NEG NEG NEG NEG NEG NEG NEG NEG NEG NEG NEG NEG NEG NEG NEG NEG NEG NEG NEG NEG NEG NEG NEG NEG NEG NEG NEG NEG NEG NEG NEG NEG NEG NEG NEG NEG NEG NEG NEG NEG NEG NEG NEG NEG NEG NEG NEG NEG NEG NEG NEG NEG NEG NEG NEG NEG NEG NEG NEG NEG NEG NEG NEG NEG NEG NEG NEG NEG NEG NEG NEG NEG NEG NEG NEG NEG NEG NEG NEG NEG NEG NEG NEG NEG NEG NEG NEG NEG NEG NEG NEG NEG NEG NEG NEG NEG NEG NEG NEG NEG NEG NEG NEG NEG NEG NEG NEG NEG NEG NEG NEG NEG NEG NEG NEG NEG NEG NEG NEG NEG NEG NEG NEG NEG NEG NEG NEG NEG NEG NEG NEG NEG NEG NEG NEG NEG NEG NEG NEG NEG NEG NEG NEG NEG NEG NEG NEG NEG NEG NEG NEG NEG NEG NEG NEG NEG NEG NEG NEG NEG NEG NEG NEG NEG NEG NEG NEG NEG NEG NEG NEG NEG NEG NEG NEG NEG NEG NEG NEG NEG NEG NEG NEG NEG NEG NEG NEG NEG NEG NEG NEG NEG NEG NEG NEG NEG NEG NEG NEG NEG NEG NEG NEG NEG NEG NEG NEG NEG NEG NEG NEG NEG NEG NEG NEG NEG NEG NEG NEG NEG NEG NEG NEG NEG NEG NEG NEG NEG NEG NEG NEG NEG NEG NEG NEG NEG NEG NEG NEG NEG NEG NEG NEG NEG NEG NEG NEG NEG NEG NEG NEG NEG NEG NEG NEG NEG NEG\n",
      "NEG NEG NEG NEG NEG NEG NEG NEG NEG NEG NEG NEG NEG NEG NEG NEG NEG NEG NEG NEG NEG NEG NEG NEG NEG NEG NEG NEG NEG NEG NEG NEG NEG NEG NEG NEG NEG NEG NEG NEG NEG NEG NEG NEG NEG NEG NEG NEG NEG NEG NEG NEG NEG NEG NEG NEG NEG NEG NEG NEG NEG NEG NEG NEG NEG NEG NEG NEG NEG NEG NEG NEG NEG NEG NEG NEG NEG NEG NEG NEG NEG NEG NEG NEG NEG NEG NEG NEG NEG NEG NEG NEG NEG NEG NEG NEG NEG NEG NEG NEG\n",
      "Accuracy: 1.0\n"
     ]
    },
    {
     "data": {
      "text/plain": [
       "1.0"
      ]
     },
     "execution_count": 33,
     "metadata": {},
     "output_type": "execute_result"
    }
   ],
   "source": [
    "train_start, train_stop = 0, 900\n",
    "test_start, test_stop = 900, 1000\n",
    "\n",
    "print(*[r['sentiment'] for r in reviews[train_start:train_stop]])\n",
    "print(*[r['sentiment'] for r in reviews[test_start:test_stop]])\n",
    "\n",
    "log_prior, log_likelihood, V_pos,V_neg =train_NB(['POS','NEG'], reviews[train_start:train_stop])\n",
    "test_results = [test_NB(testdoc, log_prior, log_likelihood, ['POS','NEG'], V_pos,V_neg) for testdoc in reviews[test_start:test_stop]]\n",
    "#test_results\n",
    "\n",
    "accuracy2(test_results,reviews[test_start:test_stop])"
   ]
  },
  {
   "cell_type": "markdown",
   "metadata": {
    "id": "0INK-PBoM6CB"
   },
   "source": [
    "#### (Q2.3) Would you consider accuracy to also be a good way to evaluate your classifier in a situation where 90% of your data instances are of positive movie reviews? (1pt)\n",
    "\n",
    "Simulate this scenario by keeping the positive reviews\n",
    "data unchanged, but only using negative reviews cv000–cv089 for\n",
    "training, and cv900–cv909 for testing. Calculate the classification\n",
    "accuracy, and explain what changed."
   ]
  },
  {
   "cell_type": "markdown",
   "metadata": {
    "id": "oFbcsYlipBAw"
   },
   "source": [
    "*Write your answer here.*"
   ]
  },
  {
   "cell_type": "code",
   "execution_count": 34,
   "metadata": {
    "id": "GWDkt5ZrrFGp"
   },
   "outputs": [
    {
     "name": "stdout",
     "output_type": "stream",
     "text": [
      "NEG NEG NEG NEG NEG NEG NEG NEG NEG NEG NEG NEG NEG NEG NEG NEG NEG NEG NEG NEG NEG NEG NEG NEG NEG NEG NEG NEG NEG NEG NEG NEG NEG NEG NEG NEG NEG NEG NEG NEG NEG NEG NEG NEG NEG NEG NEG NEG NEG NEG NEG NEG NEG NEG NEG NEG NEG NEG NEG NEG NEG NEG NEG NEG NEG NEG NEG NEG NEG NEG NEG NEG NEG NEG NEG NEG NEG NEG NEG NEG NEG NEG NEG NEG NEG NEG NEG NEG NEG NEG\n",
      "NEG NEG NEG NEG NEG NEG NEG NEG NEG NEG\n",
      "Accuracy: 1.0\n"
     ]
    },
    {
     "data": {
      "text/plain": [
       "1.0"
      ]
     },
     "execution_count": 34,
     "metadata": {},
     "output_type": "execute_result"
    }
   ],
   "source": [
    "# YOUR CODE HERE\n",
    "train_start, train_stop = 0, 90\n",
    "test_start, test_stop = 900, 910\n",
    "\n",
    "print(*[r['sentiment'] for r in reviews[train_start:train_stop]])\n",
    "print(*[r['sentiment'] for r in reviews[test_start:test_stop]])\n",
    "\n",
    "\n",
    "log_prior, log_likelihood, V_pos,V_neg =train_NB(['POS','NEG'], reviews[train_start:train_stop])\n",
    "\n",
    "test_results = [test_NB(testdoc, log_prior, log_likelihood, ['POS','NEG'], V_pos,V_neg) for testdoc in reviews[900:910]]\n",
    "accuracy2(test_results,reviews[test_start:test_stop])"
   ]
  },
  {
   "cell_type": "markdown",
   "metadata": {
    "id": "6wJzcHX3WUDm"
   },
   "source": [
    "## Smoothing (1pt)\n",
    "\n",
    "As mentioned above, the presence of words in the test dataset that\n",
    "have not been seen during training can cause probabilities in the Naive\n",
    "Bayes classifier to be $0$, thus making that particular test instance\n",
    "undecidable. The standard way to mitigate this effect (as well as to\n",
    "give more clout to rare words) is to use smoothing, in which the\n",
    "probability fraction\n",
    "$$\\frac{\\text{count}(w_i, c)}{\\sum\\limits_{w\\in V} \\text{count}(w, c)}$$\n",
    "for a word $w_i$ becomes\n",
    "$$\\frac{\\text{count}(w_i, c) + \\text{smoothing}(w_i)}{\\sum\\limits_{w\\in V} \\text{count}(w, c) + \\sum\\limits_{w \\in V} \\text{smoothing}(w)}$$\n",
    "\n",
    "\n",
    "\n"
   ]
  },
  {
   "cell_type": "markdown",
   "metadata": {
    "id": "PBNIcbwUWphC"
   },
   "source": [
    "#### (Q2.4) Implement Laplace feature smoothing (1pt)\n",
    "Implement Laplace smoothing, i.e., smoothing with a constant value ($smoothing(w) = \\kappa, \\forall w \\in V$), in your Naive\n",
    "Bayes classifier’s code, and report the accuracy.\n",
    "Use $\\kappa = 1$."
   ]
  },
  {
   "cell_type": "code",
   "execution_count": 35,
   "metadata": {
    "id": "g03yflCc9kpW"
   },
   "outputs": [],
   "source": [
    "# YOUR CODE HERE\n",
    "def train_NB_smoothing(C, D, kappa = 1):\n",
    "    \n",
    "    Ndoc = len(D)\n",
    "    log_prior = {}\n",
    "    log_likelihood = {}\n",
    "    big_doc = {}\n",
    "\n",
    "    # Make vocab for all documents\n",
    "    V_pos = set()\n",
    "    V_neg = set()\n",
    "    for doc in D:\n",
    "        if doc['sentiment'] == 'POS':\n",
    "            for s in doc[\"content\"]:\n",
    "                for w, _ in s:\n",
    "                    V_pos.add(w)\n",
    "        if doc['sentiment'] == 'NEG':\n",
    "            for s in doc[\"content\"]:\n",
    "                for w, _ in s:\n",
    "                    V_neg.add(w)\n",
    "    \n",
    "    V = V_pos.union(V_neg)\n",
    "\n",
    "    # Calculate P(w|c)\n",
    "    for c in C:\n",
    "        big_doc[c] = [doc for doc in D if doc[\"sentiment\"] == c]\n",
    "        Nc = len(big_doc[c])\n",
    "        log_prior[c] = np.log(Nc/Ndoc) if Nc > 0 else -np.inf\n",
    "        word_counts = Counter()\n",
    "        # Count occurences of each w in big_doc[c]\n",
    "        for doc in big_doc[c]:\n",
    "            for sentence in doc['content']:\n",
    "                for word, pos_tag in sentence:\n",
    "                    word_counts[word.lower()] += 1\n",
    "        \n",
    "        sum1 = sum(word_counts[v] for v in V)\n",
    "\n",
    "        for w in V:\n",
    "            log_likelihood[w,c] = np.log(word_counts[w] + kappa) - np.log(sum1 + len(V)*kappa)\n",
    "            \n",
    "    return log_prior,log_likelihood,V_pos,V_neg"
   ]
  },
  {
   "cell_type": "code",
   "execution_count": 36,
   "metadata": {},
   "outputs": [
    {
     "name": "stdout",
     "output_type": "stream",
     "text": [
      "NEG NEG NEG NEG NEG NEG NEG NEG NEG NEG NEG NEG NEG NEG NEG NEG NEG NEG NEG NEG NEG NEG NEG NEG NEG NEG NEG NEG NEG NEG NEG NEG NEG NEG NEG NEG NEG NEG NEG NEG NEG NEG NEG NEG NEG NEG NEG NEG NEG NEG NEG NEG NEG NEG NEG NEG NEG NEG NEG NEG NEG NEG NEG NEG NEG NEG NEG NEG NEG NEG NEG NEG NEG NEG NEG NEG NEG NEG NEG NEG NEG NEG NEG NEG NEG NEG NEG NEG NEG NEG\n",
      "NEG NEG NEG NEG NEG NEG NEG NEG NEG NEG\n",
      "Accuracy: 1.0\n"
     ]
    },
    {
     "data": {
      "text/plain": [
       "1.0"
      ]
     },
     "execution_count": 36,
     "metadata": {},
     "output_type": "execute_result"
    }
   ],
   "source": [
    "train_start, train_stop = 0, 90\n",
    "test_start, test_stop = 900, 910\n",
    "\n",
    "print(*[r['sentiment'] for r in reviews[train_start:train_stop]])\n",
    "print(*[r['sentiment'] for r in reviews[test_start:test_stop]])\n",
    "\n",
    "log_prior, log_likelihood, V_pos,V_neg = train_NB_smoothing(['POS','NEG'], reviews[train_start:train_stop])\n",
    "\n",
    "test_results = [test_NB(testdoc, log_prior, log_likelihood, ['POS','NEG'], V_pos,V_neg) for testdoc in reviews[900:910]]\n",
    "accuracy2(test_results,reviews[test_start:test_stop])"
   ]
  },
  {
   "cell_type": "markdown",
   "metadata": {
    "id": "ZiGcgwba87D5"
   },
   "source": [
    "## Cross-Validation (1.5pts)\n",
    "\n",
    "A serious danger in using Machine Learning on small datasets, with many\n",
    "iterations of slightly different versions of the algorithms, is ending up with Type III errors, also called the “testing hypotheses\n",
    "suggested by the data” errors. This type of error occurs when we make\n",
    "repeated improvements to our classifiers by playing with features and\n",
    "their processing, but we don’t get a fresh, never-before seen test\n",
    "dataset every time. Thus, we risk developing a classifier that gets better\n",
    "and better on our data, but only gets worse at generalizing to new, unseen data. In other words, we risk developping a classifier that overfits.\n",
    "\n",
    "A simple method to guard against Type III errors is to use\n",
    "Cross-Validation. In **N-fold Cross-Validation**, we divide the data into N\n",
    "distinct chunks, or folds. Then, we repeat the experiment N times: each\n",
    "time holding out one of the folds for testing, training our classifier\n",
    "on the remaining N - 1 data folds, and reporting performance on the\n",
    "held-out fold. We can use different strategies for dividing the data:\n",
    "\n",
    "-   Consecutive splitting:\n",
    "  - cv000–cv099 = Split 1\n",
    "  - cv100–cv199 = Split 2\n",
    "  - etc.\n",
    "  \n",
    "-   Round-robin splitting (mod 10):\n",
    "  - cv000, cv010, cv020, … = Split 1\n",
    "  - cv001, cv011, cv021, … = Split 2\n",
    "  - etc.\n",
    "\n",
    "-   Random sampling/splitting\n",
    "  - Not used here (but you may choose to split this way in a non-educational situation)\n",
    "\n"
   ]
  },
  {
   "cell_type": "markdown",
   "metadata": {
    "id": "8OeLcbSauGtR"
   },
   "source": [
    "#### (Q2.5) Write the code to implement 10-fold cross-validation using round-robin splitting for your Naive Bayes classifier from Q2.4 and compute the 10 accuracies. Report the final performance, which is the average of the performances per fold. If all splits perform equally well, this is a good sign. (1pt)"
   ]
  },
  {
   "cell_type": "code",
   "execution_count": 37,
   "metadata": {
    "id": "3KeCGPa7Nuzx"
   },
   "outputs": [
    {
     "name": "stdout",
     "output_type": "stream",
     "text": [
      "Accuracy: 0.765\n",
      "Accuracy for fold 1: 0.7650\n",
      "Accuracy: 0.82\n",
      "Accuracy for fold 2: 0.8200\n",
      "Accuracy: 0.835\n",
      "Accuracy for fold 3: 0.8350\n",
      "Accuracy: 0.865\n",
      "Accuracy for fold 4: 0.8650\n",
      "Accuracy: 0.78\n",
      "Accuracy for fold 5: 0.7800\n",
      "Accuracy: 0.85\n",
      "Accuracy for fold 6: 0.8500\n",
      "Accuracy: 0.84\n",
      "Accuracy for fold 7: 0.8400\n",
      "Accuracy: 0.77\n",
      "Accuracy for fold 8: 0.7700\n",
      "Accuracy: 0.855\n",
      "Accuracy for fold 9: 0.8550\n",
      "Accuracy: 0.835\n",
      "Accuracy for fold 10: 0.8350\n",
      "\n",
      "Average accuracy across all folds: 0.8215\n"
     ]
    }
   ],
   "source": [
    "# YOUR CODE HERE\n",
    "def round_robin_split(data, n_splits=10):\n",
    "    \"\"\"\n",
    "    Split data into `n_splits` using round-robin splitting.\n",
    "    Each split i contains every nth item from data.\n",
    "    \"\"\"\n",
    "    folds = [[] for _ in range(n_splits)]\n",
    "    for index, doc in enumerate(data):\n",
    "        folds[index % n_splits].append(doc)\n",
    "    return folds\n",
    "\n",
    "def cross_validate_NB(data, n_splits=10):\n",
    "    # Perform round-robin split\n",
    "    folds = round_robin_split(data, n_splits=n_splits)\n",
    "    accuracies = []\n",
    "\n",
    "    # Perform N-fold cross-validation\n",
    "    for i in range(n_splits):\n",
    "        # Prepare training and test sets\n",
    "        test_fold = folds[i]\n",
    "        train_folds = [folds[j] for j in range(n_splits) if j != i]\n",
    "        train_data = [doc for fold in train_folds for doc in fold]\n",
    "\n",
    "        # Train the classifier on the training data\n",
    "        log_prior, log_likelihood, V_pos, V_neg = train_NB_smoothing(['POS', 'NEG'], train_data)\n",
    "\n",
    "        # Test the classifier on the test data\n",
    "        test_results = [test_NB(testdoc, log_prior, log_likelihood, ['POS', 'NEG'], V_pos, V_neg) for testdoc in test_fold]\n",
    "        \n",
    "        # Calculate accuracy for this fold\n",
    "        accuracy = accuracy2(test_results, test_fold)\n",
    "        accuracies.append(accuracy)\n",
    "\n",
    "        print(f\"Accuracy for fold {i + 1}: {accuracy:.4f}\")\n",
    "\n",
    "    # Calculate average accuracy\n",
    "    average_accuracy = np.mean(accuracies)\n",
    "    print(f\"\\nAverage accuracy across all folds: {average_accuracy:.4f}\")\n",
    "    return accuracies, average_accuracy\n",
    "\n",
    "# Example usage with your dataset\n",
    "# Replace `reviews` with your actual dataset variable\n",
    "accuracies, average_accuracy = cross_validate_NB(reviews)\n"
   ]
  },
  {
   "cell_type": "markdown",
   "metadata": {
    "id": "otdlsDXBNyOa"
   },
   "source": [
    "#### (Q2.6) Report the variance of the 10 accuracy scores. (0.5pt)\n",
    "\n",
    "**Please report all future results using 10-fold cross-validation now\n",
    "(unless told to use the held-out test set).** Note: you're not allowed to use a library for computing the variance."
   ]
  },
  {
   "cell_type": "code",
   "execution_count": 38,
   "metadata": {
    "id": "ZoBQm1KuNzNR"
   },
   "outputs": [
    {
     "name": "stdout",
     "output_type": "stream",
     "text": [
      "Varancie: 0.0012102499999999989\n"
     ]
    }
   ],
   "source": [
    "# YOUR CODE HERE\n",
    "print('Varancie:', np.var(accuracies))"
   ]
  },
  {
   "cell_type": "markdown",
   "metadata": {
    "id": "s6A2zX9_BRKm"
   },
   "source": [
    "## Features, overfitting, and the curse of dimensionality\n",
    "\n",
    "In the Bag-of-Words model, ideally we would like each distinct word in\n",
    "the text to be mapped to its own dimension in the output vector\n",
    "representation. However, real world text is messy, and we need to decide\n",
    "on what we consider to be a word. For example, is “`word`\" different\n",
    "from “`Word`\", from “`word`”, or from “`words`\"? Too strict a\n",
    "definition, and the number of features explodes, while our algorithm\n",
    "fails to learn anything generalisable. Too lax, and we risk destroying\n",
    "our learning signal. In the following section, you will learn about\n",
    "confronting the feature sparsity and the overfitting problems as they\n",
    "occur in NLP classification tasks."
   ]
  },
  {
   "cell_type": "markdown",
   "metadata": {
    "id": "EKK8FNt8VtcZ"
   },
   "source": [
    "### Stemming (1.5pts)\n",
    "\n",
    "To make your algorithm more robust, use stemming and hash different inflections of a word to the same feature in the BoW vector space. Please use the [Porter stemming\n",
    "    algorithm](http://www.nltk.org/howto/stem.html) from NLTK.\n",
    "\n"
   ]
  },
  {
   "cell_type": "code",
   "execution_count": 39,
   "metadata": {
    "id": "NxtCul1IrBi_"
   },
   "outputs": [],
   "source": [
    "# YOUR CODE HERE\n",
    "def train_NB_smoothing_stemmed(C, D, stemmer=PorterStemmer(), kappa = 1):\n",
    "        \n",
    "        Ndoc = len(D)\n",
    "        log_prior = {}\n",
    "        log_likelihood = {}\n",
    "        big_doc = {}\n",
    "    \n",
    "        # Make vocab for all documents\n",
    "        V_pos = set()\n",
    "        V_neg = set()\n",
    "        for doc in D:\n",
    "            if doc['sentiment'] == 'POS':\n",
    "                for s in doc[\"content\"]:\n",
    "                    for w, _ in s:\n",
    "                        V_pos.add(stemmer.stem(w))\n",
    "            if doc['sentiment'] == 'NEG':\n",
    "                for s in doc[\"content\"]:\n",
    "                    for w, _ in s:\n",
    "                        V_neg.add(stemmer.stem(w))\n",
    "        \n",
    "        V = V_pos.union(V_neg)\n",
    "    \n",
    "        # Calculate P(w|c)\n",
    "        for c in C:\n",
    "            big_doc[c] = [doc for doc in D if doc[\"sentiment\"] == c]\n",
    "            Nc = len(big_doc[c])\n",
    "            log_prior[c] = np.log(Nc/Ndoc) if Nc > 0 else -np.inf\n",
    "            word_counts = Counter()\n",
    "            # Count occurences of each w in big_doc[c]\n",
    "            for doc in big_doc[c]:\n",
    "                for sentence in doc['content']:\n",
    "                    for word, pos_tag in sentence:\n",
    "                        word_counts[stemmer.stem(word)] += 1\n",
    "            \n",
    "            sum1 = sum(word_counts[v] for v in V)\n",
    "    \n",
    "            for w in V:\n",
    "                log_likelihood[w,c] = np.log(word_counts[w] + kappa) - np.log(sum1 + len(V)*kappa)\n",
    "        \n",
    "        return log_prior,log_likelihood,V_pos,V_neg\n"
   ]
  },
  {
   "cell_type": "markdown",
   "metadata": {
    "id": "6SrJ1BeLXTnk"
   },
   "source": [
    "#### (Q2.7): How does the performance of your classifier change when you use stemming on your training and test datasets? (1pt)\n",
    "Use cross-validation to evaluate the classifier.\n"
   ]
  },
  {
   "cell_type": "code",
   "execution_count": 40,
   "metadata": {
    "id": "gYqKBOiIrInT"
   },
   "outputs": [
    {
     "ename": "TypeError",
     "evalue": "'function' object cannot be interpreted as an integer",
     "output_type": "error",
     "traceback": [
      "\u001b[0;31m---------------------------------------------------------------------------\u001b[0m",
      "\u001b[0;31mTypeError\u001b[0m                                 Traceback (most recent call last)",
      "Cell \u001b[0;32mIn[40], line 2\u001b[0m\n\u001b[1;32m      1\u001b[0m \u001b[38;5;66;03m# YOUR CODE HERE\u001b[39;00m\n\u001b[0;32m----> 2\u001b[0m accuracies, average_accuracy \u001b[38;5;241m=\u001b[39m \u001b[43mcross_validate_NB\u001b[49m\u001b[43m(\u001b[49m\u001b[43mreviews\u001b[49m\u001b[43m,\u001b[49m\u001b[43mtrain_NB_smoothing_stemmed\u001b[49m\u001b[43m)\u001b[49m\n",
      "Cell \u001b[0;32mIn[37], line 14\u001b[0m, in \u001b[0;36mcross_validate_NB\u001b[0;34m(data, n_splits)\u001b[0m\n\u001b[1;32m     12\u001b[0m \u001b[38;5;28;01mdef\u001b[39;00m \u001b[38;5;21mcross_validate_NB\u001b[39m(data, n_splits\u001b[38;5;241m=\u001b[39m\u001b[38;5;241m10\u001b[39m):\n\u001b[1;32m     13\u001b[0m     \u001b[38;5;66;03m# Perform round-robin split\u001b[39;00m\n\u001b[0;32m---> 14\u001b[0m     folds \u001b[38;5;241m=\u001b[39m \u001b[43mround_robin_split\u001b[49m\u001b[43m(\u001b[49m\u001b[43mdata\u001b[49m\u001b[43m,\u001b[49m\u001b[43m \u001b[49m\u001b[43mn_splits\u001b[49m\u001b[38;5;241;43m=\u001b[39;49m\u001b[43mn_splits\u001b[49m\u001b[43m)\u001b[49m\n\u001b[1;32m     15\u001b[0m     accuracies \u001b[38;5;241m=\u001b[39m []\n\u001b[1;32m     17\u001b[0m     \u001b[38;5;66;03m# Perform N-fold cross-validation\u001b[39;00m\n",
      "Cell \u001b[0;32mIn[37], line 7\u001b[0m, in \u001b[0;36mround_robin_split\u001b[0;34m(data, n_splits)\u001b[0m\n\u001b[1;32m      2\u001b[0m \u001b[38;5;28;01mdef\u001b[39;00m \u001b[38;5;21mround_robin_split\u001b[39m(data, n_splits\u001b[38;5;241m=\u001b[39m\u001b[38;5;241m10\u001b[39m):\n\u001b[1;32m      3\u001b[0m \u001b[38;5;250m    \u001b[39m\u001b[38;5;124;03m\"\"\"\u001b[39;00m\n\u001b[1;32m      4\u001b[0m \u001b[38;5;124;03m    Split data into `n_splits` using round-robin splitting.\u001b[39;00m\n\u001b[1;32m      5\u001b[0m \u001b[38;5;124;03m    Each split i contains every nth item from data.\u001b[39;00m\n\u001b[1;32m      6\u001b[0m \u001b[38;5;124;03m    \"\"\"\u001b[39;00m\n\u001b[0;32m----> 7\u001b[0m     folds \u001b[38;5;241m=\u001b[39m [[] \u001b[38;5;28;01mfor\u001b[39;00m _ \u001b[38;5;129;01min\u001b[39;00m \u001b[38;5;28;43mrange\u001b[39;49m\u001b[43m(\u001b[49m\u001b[43mn_splits\u001b[49m\u001b[43m)\u001b[49m]\n\u001b[1;32m      8\u001b[0m     \u001b[38;5;28;01mfor\u001b[39;00m index, doc \u001b[38;5;129;01min\u001b[39;00m \u001b[38;5;28menumerate\u001b[39m(data):\n\u001b[1;32m      9\u001b[0m         folds[index \u001b[38;5;241m%\u001b[39m n_splits]\u001b[38;5;241m.\u001b[39mappend(doc)\n",
      "\u001b[0;31mTypeError\u001b[0m: 'function' object cannot be interpreted as an integer"
     ]
    }
   ],
   "source": [
    "# YOUR CODE HERE\n",
    "accuracies, average_accuracy = cross_validate_NB(reviews,train_NB_smoothing_stemmed)"
   ]
  },
  {
   "cell_type": "markdown",
   "metadata": {
    "id": "JkDHVq_1XUVP"
   },
   "source": [
    "#### (Q2.8) What happens to the number of features (i.e., the size of the vocabulary) when using stemming as opposed to (Q2.4)? (0.5pt)\n",
    "Give actual numbers. You can use the held-out training set to determine these."
   ]
  },
  {
   "cell_type": "code",
   "execution_count": 84,
   "metadata": {
    "id": "MA3vee5-rJyy"
   },
   "outputs": [
    {
     "name": "stdout",
     "output_type": "stream",
     "text": [
      "Number of features with stemming: 34200\n",
      "Number of features without stemming: 55384\n"
     ]
    }
   ],
   "source": [
    "# YOUR CODE HERE\n",
    "C = ['POS','NEG']\n",
    "D = reviews\n",
    "\n",
    "log_prior,log_likelihood,V_pos,V_neg = train_NB_smoothing_stemmed(C, D, stemmer=PorterStemmer(), kappa = 1)\n",
    "V_stemmed = V_pos.union(V_neg)\n",
    "print(f'Number of features with stemming: {len(V_stemmed)}')\n",
    "\n",
    "log_prior,log_likelihood,V_pos,V_neg = train_NB_smoothing(C, D, kappa = 1)\n",
    "V_not_stemmed = V_pos.union(V_neg)\n",
    "print(f'Number of features without stemming: {len(V_not_stemmed)}')"
   ]
  },
  {
   "cell_type": "markdown",
   "metadata": {
    "id": "SoazfxbNV5Lq"
   },
   "source": [
    "### N-grams (1.5pts)\n",
    "\n",
    "A simple way of retaining some of the word\n",
    "order information when using bag-of-words representations is to use **n-gram** features.\n",
    "\n",
    "\n",
    "\n",
    "\n"
   ]
  },
  {
   "cell_type": "markdown",
   "metadata": {
    "id": "OHjy3I7-qWiu"
   },
   "source": [
    "#### (Q2.9) Retrain your classifier from (Q2.4) using **unigrams+bigrams** and **unigrams+bigrams+trigrams** as features. (1pt)\n",
    "Report accuracy and compare it with that of the approaches you have previously implemented. You are allowed to use NLTK to build n-grams from sentences."
   ]
  },
  {
   "cell_type": "code",
   "execution_count": 85,
   "metadata": {
    "id": "eYuKMTOpq9jz"
   },
   "outputs": [],
   "source": [
    "# YOUR CODE HERE\n",
    "def train_NB_smoothing_ngrams(C, D, kappa=1, tri=True):\n",
    "    \n",
    "    Ndoc = len(D)\n",
    "    log_prior = {}\n",
    "    log_likelihood = {}\n",
    "    big_doc = {}\n",
    "\n",
    "    # Make vocab for all documents\n",
    "    V_pos = set()\n",
    "    V_neg = set()\n",
    "    for doc in D:\n",
    "        if doc['sentiment'] == 'POS':\n",
    "            for s in doc[\"content\"]:\n",
    "                words = [word for word, pos in s]\n",
    "                V_pos.add(ngrams(words,1))\n",
    "                V_pos.add(ngrams(words,2))\n",
    "                if tri: V_pos.add(ngrams(words,3))\n",
    "        if doc['sentiment'] == 'NEG':\n",
    "            for s in doc[\"content\"]:\n",
    "                words = [word for word, pos in s]\n",
    "                V_pos.add(ngrams(words,1))\n",
    "                V_pos.add(ngrams(words,2))\n",
    "                if tri: V_pos.add(ngrams(words,3))\n",
    "    \n",
    "    V = V_pos.union(V_neg)\n",
    "\n",
    "    # Calculate P(w|c)\n",
    "    for c in C:\n",
    "        big_doc[c] = [doc for doc in D if doc[\"sentiment\"] == c]\n",
    "        Nc = len(big_doc[c])\n",
    "        log_prior[c] = np.log(Nc/Ndoc) if Nc > 0 else -np.inf\n",
    "        ngrams_counts = Counter()\n",
    "        # Count occurences of each w in big_doc[c]\n",
    "        for doc in big_doc[c]:\n",
    "            for s in doc['content']:\n",
    "                words = [word for word, pos in s]\n",
    "                ngrams_counts.update(ngrams(words,1))\n",
    "                ngrams_counts.update(ngrams(words,2))\n",
    "                if tri: ngrams_counts.update(ngrams(words,3))\n",
    "        sum1 = sum(ngrams_counts[v] for v in V)\n",
    "\n",
    "        for w in V:\n",
    "            log_likelihood[w,c] = np.log(ngrams_counts[w] + kappa) - np.log(sum1 + len(V)*kappa)\n",
    "            \n",
    "    return log_prior,log_likelihood,V_pos,V_neg"
   ]
  },
  {
   "cell_type": "markdown",
   "metadata": {
    "id": "dVrGGArkrWoL"
   },
   "source": [
    "\n",
    "#### Q2.10: How many features does the BoW model have to take into account now? (0.5pt)\n",
    "How would you expect the number of features to increase theoretically (e.g., linear, square, cubed, exponential)? How does this number compare, in practice, to the number of features at (Q2.8)?\n",
    "\n",
    "Use the held-out training set once again for this.\n"
   ]
  },
  {
   "cell_type": "markdown",
   "metadata": {
    "id": "yEGZ9SV8pPaa"
   },
   "source": [
    "*Write your answer here.*"
   ]
  },
  {
   "cell_type": "code",
   "execution_count": 23,
   "metadata": {
    "id": "_z8sAJeUrdtM"
   },
   "outputs": [],
   "source": [
    "# YOUR CODE HERE"
   ]
  },
  {
   "cell_type": "markdown",
   "metadata": {
    "id": "CHWKDL3YV6vh"
   },
   "source": [
    "# (3) Support Vector Machines (4pts)"
   ]
  },
  {
   "cell_type": "markdown",
   "metadata": {
    "id": "hJSYhcVaoJGt"
   },
   "source": [
    "Though simple to understand, implement, and debug, one\n",
    "major problem with the Naive Bayes classifier is that its performance\n",
    "deteriorates (becomes skewed) when it is being used with features which\n",
    "are not independent (i.e., are correlated). Another popular classifier\n",
    "that doesn’t scale as well to big data, and is not as simple to debug as\n",
    "Naive Bayes, but that doesn’t assume feature independence is the Support\n",
    "Vector Machine (SVM) classifier.\n",
    "\n",
    "You can find more details about SVMs in Chapter 7 of Bishop: Pattern Recognition and Machine Learning.\n",
    "Other sources for learning SVM:\n",
    "* http://web.mit.edu/zoya/www/SVM.pdf\n",
    "* http://www.cs.columbia.edu/~kathy/cs4701/documents/jason_svm_tutorial.pdf\n",
    "* https://pythonprogramming.net/support-vector-machine-intro-machine-learning-tutorial/\n",
    "\n",
    "\n",
    "\n",
    "\n",
    "\n",
    "\n",
    "\n",
    "Use the scikit-learn implementation of\n",
    "[SVM](http://scikit-learn.org/stable/modules/svm.html) with the default parameters. (You are not expected to perform any hyperparameter tuning, but feel free to do it if you think it gives you good insights for the discussion in question 5.)\n",
    "\n"
   ]
  },
  {
   "cell_type": "markdown",
   "metadata": {
    "id": "0LnzNtQBV8gr"
   },
   "source": [
    "#### (Q3.1): Train SVM and compare to Naive Bayes (2pts)\n",
    "\n",
    "Train an SVM classifier (sklearn.svm.LinearSVC) using the features collected for Naive Bayes. Compare the\n",
    "classification performance of the SVM classifier to that of the Naive\n",
    "Bayes classifier with smoothing.\n",
    "Use cross-validation to evaluate the performance of the classifiers.\n",
    "\n"
   ]
  },
  {
   "cell_type": "code",
   "execution_count": 24,
   "metadata": {
    "id": "JBscui8Mvoz0"
   },
   "outputs": [],
   "source": [
    "# YOUR CODE HERE"
   ]
  },
  {
   "cell_type": "markdown",
   "metadata": {
    "id": "ifXVWcK0V9qY"
   },
   "source": [
    "### POS disambiguation (2pts)\n",
    "\n",
    "Now add in part-of-speech features. You will find the\n",
    "movie review dataset has already been POS-tagged for you ([here](https://catalog.ldc.upenn.edu/docs/LDC99T42/tagguid1.pdf) you find the tagset). Try to\n",
    "replicate the results obtained by Pang et al. (2002).\n",
    "\n"
   ]
  },
  {
   "cell_type": "markdown",
   "metadata": {
    "id": "xA3I82o4oWGu"
   },
   "source": [
    "####(Q3.2) Replace your features with word+POS features, and report performance with the SVM. Use cross-validation to evaluate the classifier and compare the results with (Q3.1). Does part-of-speech information help? Explain why this may be the case. (1pt)\n"
   ]
  },
  {
   "cell_type": "code",
   "execution_count": 25,
   "metadata": {
    "id": "NOvjYe-t2Br6"
   },
   "outputs": [],
   "source": [
    "# YOUR CODE HERE"
   ]
  },
  {
   "cell_type": "markdown",
   "metadata": {
    "id": "L0dt_oQupUNe"
   },
   "source": [
    "*Write your answer here.*"
   ]
  },
  {
   "cell_type": "markdown",
   "metadata": {
    "id": "Su-3w87eMW0w"
   },
   "source": [
    "#### (Q3.3) Discard all closed-class words from your data (keep only nouns, verbs, adjectives, and adverbs), and report performance. Does this help? Use cross-validation to evaluate the classifier and compare the results with (Q3.2). Are closed-class words detrimental to the classifier? Explain why this may be the case. (1pt)"
   ]
  },
  {
   "cell_type": "code",
   "execution_count": 26,
   "metadata": {
    "id": "CCUPlPozCYUX"
   },
   "outputs": [],
   "source": [
    "# YOUR CODE HERE"
   ]
  },
  {
   "cell_type": "markdown",
   "metadata": {
    "id": "YaxCVrs8pWSp"
   },
   "source": [
    "*Write your answer here.*"
   ]
  },
  {
   "cell_type": "markdown",
   "metadata": {
    "id": "nfwqOciAl2No"
   },
   "source": [
    "# (4) Discussion (max. 500 words). (5pts)\n",
    "\n",
    "> Based on your experiments, what are the effective features and techniques in sentiment analysis? What information do different features encode?\n",
    "Why is this important? What are the limitations of these features and techniques?\n",
    "\n"
   ]
  },
  {
   "cell_type": "markdown",
   "metadata": {
    "id": "ZYuse5WLmekZ"
   },
   "source": [
    "*Write your answer here in up to 500 words (-0.25pt for >50 extra words, -0.5 points for >100 extra words, ...)*.\n"
   ]
  },
  {
   "cell_type": "markdown",
   "metadata": {
    "id": "iwaKwfWQhRk_"
   },
   "source": [
    "# Submission\n"
   ]
  },
  {
   "cell_type": "code",
   "execution_count": 27,
   "metadata": {
    "id": "aOUeaET5ijk-"
   },
   "outputs": [],
   "source": [
    "# Write your names and student numbers here:\n",
    "# Student 1 #12345\n",
    "# Student 2 #12345"
   ]
  },
  {
   "cell_type": "markdown",
   "metadata": {
    "id": "3A9K-H6Tii3X"
   },
   "source": [
    "**That's it!**\n",
    "\n",
    "- Check if you answered all questions fully and correctly.\n",
    "- Download your completed notebook using `File -> Download .ipynb`\n",
    "- Check if your answers are all included in the file you submit.\n",
    "- Submit your .ipynb file via *Canvas*. One submission per group."
   ]
  },
  {
   "cell_type": "code",
   "execution_count": null,
   "metadata": {
    "id": "YHslatYAKBrF"
   },
   "outputs": [],
   "source": []
  }
 ],
 "metadata": {
  "colab": {
   "provenance": []
  },
  "kernelspec": {
   "display_name": "nlp1",
   "language": "python",
   "name": "python3"
  },
  "language_info": {
   "codemirror_mode": {
    "name": "ipython",
    "version": 3
   },
   "file_extension": ".py",
   "mimetype": "text/x-python",
   "name": "python",
   "nbconvert_exporter": "python",
   "pygments_lexer": "ipython3",
   "version": "3.12.4"
  }
 },
 "nbformat": 4,
 "nbformat_minor": 0
}
